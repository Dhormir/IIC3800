{
 "cells": [
  {
   "cell_type": "markdown",
   "metadata": {},
   "source": [
    "# IIC-3800 Tópicos en CC - NLP UC"
   ]
  },
  {
   "cell_type": "markdown",
   "metadata": {},
   "source": [
    "- Versiones de librerías, python 3.8.10\n",
    "\n",
    "- numpy 1.20.3\n",
    "- nltk 3.7\n",
    "- lime 0.2.0.1\n",
    "- spacy 3.5.1\n",
    "- gcsfs 2023.3.0\n",
    "- protobuf 3.20.3"
   ]
  },
  {
   "cell_type": "code",
   "execution_count": 1,
   "metadata": {},
   "outputs": [
    {
     "data": {
      "text/html": [
       "<div>\n",
       "<style scoped>\n",
       "    .dataframe tbody tr th:only-of-type {\n",
       "        vertical-align: middle;\n",
       "    }\n",
       "\n",
       "    .dataframe tbody tr th {\n",
       "        vertical-align: top;\n",
       "    }\n",
       "\n",
       "    .dataframe thead th {\n",
       "        text-align: right;\n",
       "    }\n",
       "</style>\n",
       "<table border=\"1\" class=\"dataframe\">\n",
       "  <thead>\n",
       "    <tr style=\"text-align: right;\">\n",
       "      <th></th>\n",
       "      <th>critica</th>\n",
       "      <th>nota</th>\n",
       "      <th>url</th>\n",
       "    </tr>\n",
       "  </thead>\n",
       "  <tbody>\n",
       "    <tr>\n",
       "      <th>0</th>\n",
       "      <td>Bueno, bajo mi gusto, otro fracaso más de DC. ...</td>\n",
       "      <td>3</td>\n",
       "      <td>https://www.filmaffinity.com/es/reviews/1/4208...</td>\n",
       "    </tr>\n",
       "    <tr>\n",
       "      <th>1</th>\n",
       "      <td>Es tan terrible que podría funcionar como paro...</td>\n",
       "      <td>1</td>\n",
       "      <td>https://www.filmaffinity.com/es/reviews/1/4208...</td>\n",
       "    </tr>\n",
       "    <tr>\n",
       "      <th>2</th>\n",
       "      <td>Tengo una tradición desde hace más de 5 años. ...</td>\n",
       "      <td>2</td>\n",
       "      <td>https://www.filmaffinity.com/es/reviews/1/4208...</td>\n",
       "    </tr>\n",
       "    <tr>\n",
       "      <th>3</th>\n",
       "      <td>No entiendo como nadie tiene la cara de presen...</td>\n",
       "      <td>1</td>\n",
       "      <td>https://www.filmaffinity.com/es/reviews/1/4208...</td>\n",
       "    </tr>\n",
       "    <tr>\n",
       "      <th>4</th>\n",
       "      <td>La primera entrega de Wonder Woman (2017) no m...</td>\n",
       "      <td>4</td>\n",
       "      <td>https://www.filmaffinity.com/es/reviews/1/4208...</td>\n",
       "    </tr>\n",
       "    <tr>\n",
       "      <th>...</th>\n",
       "      <td>...</td>\n",
       "      <td>...</td>\n",
       "      <td>...</td>\n",
       "    </tr>\n",
       "    <tr>\n",
       "      <th>4795</th>\n",
       "      <td>\"Shrek\" es sin lugar a dudas una de las mejore...</td>\n",
       "      <td>9</td>\n",
       "      <td>https://www.filmaffinity.com/es/reviews/6/4945...</td>\n",
       "    </tr>\n",
       "    <tr>\n",
       "      <th>4796</th>\n",
       "      <td>Muy buena e incluso diría, inteligente comedia...</td>\n",
       "      <td>8</td>\n",
       "      <td>https://www.filmaffinity.com/es/reviews/3/9420...</td>\n",
       "    </tr>\n",
       "    <tr>\n",
       "      <th>4797</th>\n",
       "      <td>Cuando una película consigue hacer que algo ta...</td>\n",
       "      <td>7</td>\n",
       "      <td>https://www.filmaffinity.com/es/reviews/3/9420...</td>\n",
       "    </tr>\n",
       "    <tr>\n",
       "      <th>4798</th>\n",
       "      <td>Una gran comedia estupida que cumple su funció...</td>\n",
       "      <td>8</td>\n",
       "      <td>https://www.filmaffinity.com/es/reviews/3/9420...</td>\n",
       "    </tr>\n",
       "    <tr>\n",
       "      <th>4799</th>\n",
       "      <td>Primer \"peplum\" moderno que sorprendió a la ma...</td>\n",
       "      <td>10</td>\n",
       "      <td>https://www.filmaffinity.com/es/reviews/3/3920...</td>\n",
       "    </tr>\n",
       "  </tbody>\n",
       "</table>\n",
       "<p>4800 rows × 3 columns</p>\n",
       "</div>"
      ],
      "text/plain": [
       "                                                critica  nota  \\\n",
       "0     Bueno, bajo mi gusto, otro fracaso más de DC. ...     3   \n",
       "1     Es tan terrible que podría funcionar como paro...     1   \n",
       "2     Tengo una tradición desde hace más de 5 años. ...     2   \n",
       "3     No entiendo como nadie tiene la cara de presen...     1   \n",
       "4     La primera entrega de Wonder Woman (2017) no m...     4   \n",
       "...                                                 ...   ...   \n",
       "4795  \"Shrek\" es sin lugar a dudas una de las mejore...     9   \n",
       "4796  Muy buena e incluso diría, inteligente comedia...     8   \n",
       "4797  Cuando una película consigue hacer que algo ta...     7   \n",
       "4798  Una gran comedia estupida que cumple su funció...     8   \n",
       "4799  Primer \"peplum\" moderno que sorprendió a la ma...    10   \n",
       "\n",
       "                                                    url  \n",
       "0     https://www.filmaffinity.com/es/reviews/1/4208...  \n",
       "1     https://www.filmaffinity.com/es/reviews/1/4208...  \n",
       "2     https://www.filmaffinity.com/es/reviews/1/4208...  \n",
       "3     https://www.filmaffinity.com/es/reviews/1/4208...  \n",
       "4     https://www.filmaffinity.com/es/reviews/1/4208...  \n",
       "...                                                 ...  \n",
       "4795  https://www.filmaffinity.com/es/reviews/6/4945...  \n",
       "4796  https://www.filmaffinity.com/es/reviews/3/9420...  \n",
       "4797  https://www.filmaffinity.com/es/reviews/3/9420...  \n",
       "4798  https://www.filmaffinity.com/es/reviews/3/9420...  \n",
       "4799  https://www.filmaffinity.com/es/reviews/3/3920...  \n",
       "\n",
       "[4800 rows x 3 columns]"
      ]
     },
     "execution_count": 1,
     "metadata": {},
     "output_type": "execute_result"
    }
   ],
   "source": [
    "import pandas as pd\n",
    "\n",
    "df = pd.read_csv(\"film_affinity.csv\")\n",
    "df"
   ]
  },
  {
   "cell_type": "markdown",
   "metadata": {},
   "source": [
    "____________________________________________________________________________________________________________\n",
    "\n",
    "## Actividad en clase\n",
    "\n",
    "Construya un clasificador de sentimiento en **castellano** usando el dataset FilmAffinity y Spacy. Para esto haga lo siguiente:\n",
    "\n",
    "- Cree la columna 'sentiment' a partir de **nota**. Sentiment debe considerar dos clases: **positivo** y **negativo**. Observe que nota va de 1 a 10. \n",
    "- Preprocese el texto del campo **critica** usando lo que hemos visto en clases. Note que deberá cambiar algunos procesos ya que el texto está en **castellano**.\n",
    "- Particione el dataset en particiones de training/development/testing (75/15/10)\n",
    "- Convierta los datos para procesarlos con Spacy (use **convert**). \n",
    "- Entrene un clasificador reproduciendo el método visto en clases.\n",
    "- Evalúe el clasificador sobre la particion de test.\n",
    "- Cuanto termine, me avisa para entregarle una **L (logrado)**.\n",
    "- Recuerde que las L otorgan un bono en la nota final de la asignatura.\n",
    "\n",
    "\n",
    "***Tiene hasta el final de la clase.***\n",
    "\n",
    "_________________________________________________________________________________________________________________"
   ]
  },
  {
   "cell_type": "markdown",
   "metadata": {},
   "source": [
    "# Solución"
   ]
  },
  {
   "cell_type": "markdown",
   "metadata": {},
   "source": [
    "!python3 -m spacy download es_core_news_sm"
   ]
  },
  {
   "cell_type": "code",
   "execution_count": 28,
   "metadata": {},
   "outputs": [],
   "source": [
    "import string\n",
    "import re\n",
    "import spacy\n",
    "from spacy.lang.es.stop_words import STOP_WORDS\n",
    "\n",
    "nlp = spacy.load(\"es_core_news_sm\") # a spanish-based nlp model\n",
    "REGX_USERNAME = r\"@[A-Za-z0-9$-_@.&+]+\"\n",
    "\n",
    "def preprocessing(text):\n",
    "  text = text.lower()\n",
    "  text = re.sub(REGX_USERNAME, ' ', text)\n",
    "  tokens = [token.text for token in nlp(text)]\n",
    "  tokens = [t for t in tokens if t not in STOP_WORDS and t not in string.punctuation and len(t) > 2]\n",
    "  tokens = [t for t in tokens if not t.isdigit()]\n",
    "\n",
    "  return \" \".join(tokens)\n",
    "\n",
    "\n",
    "df[\"text_clean\"] = df[\"critica\"].apply(preprocessing)"
   ]
  },
  {
   "cell_type": "code",
   "execution_count": 30,
   "metadata": {},
   "outputs": [],
   "source": [
    "df[\"sentiment\"] = df.apply(lambda x: 0 if int(x[\"nota\"]) < 5  else 1, axis=1)"
   ]
  },
  {
   "cell_type": "code",
   "execution_count": 31,
   "metadata": {},
   "outputs": [
    {
     "data": {
      "text/html": [
       "<div>\n",
       "<style scoped>\n",
       "    .dataframe tbody tr th:only-of-type {\n",
       "        vertical-align: middle;\n",
       "    }\n",
       "\n",
       "    .dataframe tbody tr th {\n",
       "        vertical-align: top;\n",
       "    }\n",
       "\n",
       "    .dataframe thead th {\n",
       "        text-align: right;\n",
       "    }\n",
       "</style>\n",
       "<table border=\"1\" class=\"dataframe\">\n",
       "  <thead>\n",
       "    <tr style=\"text-align: right;\">\n",
       "      <th></th>\n",
       "      <th>critica</th>\n",
       "      <th>nota</th>\n",
       "      <th>url</th>\n",
       "      <th>text_clean</th>\n",
       "      <th>sentiment</th>\n",
       "    </tr>\n",
       "  </thead>\n",
       "  <tbody>\n",
       "    <tr>\n",
       "      <th>0</th>\n",
       "      <td>Bueno, bajo mi gusto, otro fracaso más de DC. ...</td>\n",
       "      <td>3</td>\n",
       "      <td>https://www.filmaffinity.com/es/reviews/1/4208...</td>\n",
       "      <td>gusto fracaso empezó año aves presa acaba año ...</td>\n",
       "      <td>0</td>\n",
       "    </tr>\n",
       "    <tr>\n",
       "      <th>1</th>\n",
       "      <td>Es tan terrible que podría funcionar como paro...</td>\n",
       "      <td>1</td>\n",
       "      <td>https://www.filmaffinity.com/es/reviews/1/4208...</td>\n",
       "      <td>terrible funcionar parodia sobreactuada record...</td>\n",
       "      <td>0</td>\n",
       "    </tr>\n",
       "    <tr>\n",
       "      <th>2</th>\n",
       "      <td>Tengo una tradición desde hace más de 5 años. ...</td>\n",
       "      <td>2</td>\n",
       "      <td>https://www.filmaffinity.com/es/reviews/1/4208...</td>\n",
       "      <td>tradición años diciembre cine blockbuster peli...</td>\n",
       "      <td>0</td>\n",
       "    </tr>\n",
       "    <tr>\n",
       "      <th>3</th>\n",
       "      <td>No entiendo como nadie tiene la cara de presen...</td>\n",
       "      <td>1</td>\n",
       "      <td>https://www.filmaffinity.com/es/reviews/1/4208...</td>\n",
       "      <td>entiendo cara presentar película entiendo crít...</td>\n",
       "      <td>0</td>\n",
       "    </tr>\n",
       "    <tr>\n",
       "      <th>4</th>\n",
       "      <td>La primera entrega de Wonder Woman (2017) no m...</td>\n",
       "      <td>4</td>\n",
       "      <td>https://www.filmaffinity.com/es/reviews/1/4208...</td>\n",
       "      <td>entrega wonder woman pareció maravilla contrar...</td>\n",
       "      <td>0</td>\n",
       "    </tr>\n",
       "  </tbody>\n",
       "</table>\n",
       "</div>"
      ],
      "text/plain": [
       "                                             critica  nota  \\\n",
       "0  Bueno, bajo mi gusto, otro fracaso más de DC. ...     3   \n",
       "1  Es tan terrible que podría funcionar como paro...     1   \n",
       "2  Tengo una tradición desde hace más de 5 años. ...     2   \n",
       "3  No entiendo como nadie tiene la cara de presen...     1   \n",
       "4  La primera entrega de Wonder Woman (2017) no m...     4   \n",
       "\n",
       "                                                 url  \\\n",
       "0  https://www.filmaffinity.com/es/reviews/1/4208...   \n",
       "1  https://www.filmaffinity.com/es/reviews/1/4208...   \n",
       "2  https://www.filmaffinity.com/es/reviews/1/4208...   \n",
       "3  https://www.filmaffinity.com/es/reviews/1/4208...   \n",
       "4  https://www.filmaffinity.com/es/reviews/1/4208...   \n",
       "\n",
       "                                          text_clean  sentiment  \n",
       "0  gusto fracaso empezó año aves presa acaba año ...          0  \n",
       "1  terrible funcionar parodia sobreactuada record...          0  \n",
       "2  tradición años diciembre cine blockbuster peli...          0  \n",
       "3  entiendo cara presentar película entiendo crít...          0  \n",
       "4  entrega wonder woman pareció maravilla contrar...          0  "
      ]
     },
     "execution_count": 31,
     "metadata": {},
     "output_type": "execute_result"
    }
   ],
   "source": [
    "df.head()"
   ]
  },
  {
   "cell_type": "code",
   "execution_count": 32,
   "metadata": {},
   "outputs": [],
   "source": [
    "dataset = list(df[[\"text_clean\", \"sentiment\"]].sample(frac=1).itertuples(index=False, name=None))\n",
    "train_data = dataset[:3600]  # 75%\n",
    "dev_data = dataset[3600:4320] # 15%\n",
    "test_data = dataset[4320:] # 10%"
   ]
  },
  {
   "cell_type": "code",
   "execution_count": 36,
   "metadata": {},
   "outputs": [],
   "source": [
    "def convert(data, outfile):\n",
    "    db = spacy.tokens.DocBin()\n",
    "    docs = []\n",
    "    for doc, label in nlp.pipe(data, as_tuples=True):\n",
    "        doc.cats[\"POS\"] = label == 1\n",
    "        doc.cats[\"NEG\"] = label == 0\n",
    "        db.add(doc)\n",
    "    \n",
    "    db.to_disk(outfile)\n",
    "convert(train_data, \"./train.spacy\")\n",
    "convert(dev_data, \"./dev.spacy\")\n",
    "convert(test_data, \"./test.spacy\")"
   ]
  },
  {
   "cell_type": "code",
   "execution_count": 37,
   "metadata": {},
   "outputs": [
    {
     "name": "stdout",
     "output_type": "stream",
     "text": [
      "2023-03-16 14:21:34.825555: E tensorflow/stream_executor/cuda/cuda_blas.cc:2981] Unable to register cuBLAS factory: Attempting to register factory for plugin cuBLAS when one has already been registered\n",
      "2023-03-16 14:21:35.336576: W tensorflow/compiler/xla/stream_executor/platform/default/dso_loader.cc:64] Could not load dynamic library 'libnvinfer.so.7'; dlerror: libnvinfer.so.7: cannot open shared object file: No such file or directory\n",
      "2023-03-16 14:21:35.336634: W tensorflow/compiler/xla/stream_executor/platform/default/dso_loader.cc:64] Could not load dynamic library 'libnvinfer_plugin.so.7'; dlerror: libnvinfer_plugin.so.7: cannot open shared object file: No such file or directory\n",
      "2023-03-16 14:21:35.336641: W tensorflow/compiler/tf2tensorrt/utils/py_utils.cc:38] TF-TRT Warning: Cannot dlopen some TensorRT libraries. If you would like to use Nvidia GPU with TensorRT, please make sure the missing libraries mentioned above are installed properly.\n",
      "2023-03-16 14:21:36.272648: W tensorflow/compiler/xla/stream_executor/platform/default/dso_loader.cc:64] Could not load dynamic library 'libcublas.so.11'; dlerror: libcublas.so.11: cannot open shared object file: No such file or directory\n",
      "2023-03-16 14:21:36.272708: W tensorflow/compiler/xla/stream_executor/platform/default/dso_loader.cc:64] Could not load dynamic library 'libcublasLt.so.11'; dlerror: libcublasLt.so.11: cannot open shared object file: No such file or directory\n",
      "2023-03-16 14:21:36.274215: W tensorflow/compiler/xla/stream_executor/platform/default/dso_loader.cc:64] Could not load dynamic library 'libcusolver.so.11'; dlerror: libcusolver.so.11: cannot open shared object file: No such file or directory\n",
      "2023-03-16 14:21:36.274259: W tensorflow/compiler/xla/stream_executor/platform/default/dso_loader.cc:64] Could not load dynamic library 'libcusparse.so.11'; dlerror: libcusparse.so.11: cannot open shared object file: No such file or directory\n",
      "2023-03-16 14:21:36.274286: W tensorflow/compiler/xla/stream_executor/platform/default/dso_loader.cc:64] Could not load dynamic library 'libcudnn.so.8'; dlerror: libcudnn.so.8: cannot open shared object file: No such file or directory\n",
      "2023-03-16 14:21:36.274295: W tensorflow/core/common_runtime/gpu/gpu_device.cc:1934] Cannot dlopen some GPU libraries. Please make sure the missing libraries mentioned above are installed properly if you would like to use GPU. Follow the guide at https://www.tensorflow.org/install/gpu for how to download and setup the required libraries for your platform.\n",
      "Skipping registering GPU devices...\n",
      "\u001b[38;5;3m⚠ To generate a more effective transformer-based config (GPU-only),\n",
      "install the spacy-transformers package and re-run this command. The config\n",
      "generated now does not use transformers.\u001b[0m\n",
      "\u001b[38;5;4mℹ Generated config template specific for your use case\u001b[0m\n",
      "- Language: es\n",
      "- Pipeline: textcat\n",
      "- Optimize for: efficiency\n",
      "- Hardware: CPU\n",
      "- Transformer: None\n",
      "\u001b[38;5;2m✔ Auto-filled config with all values\u001b[0m\n",
      "\u001b[38;5;2m✔ Saved config\u001b[0m\n",
      "config.cfg\n",
      "You can now add your data and train your pipeline:\n",
      "python -m spacy train config.cfg --paths.train ./train.spacy --paths.dev ./dev.spacy\n"
     ]
    }
   ],
   "source": [
    "!python3 -m spacy init config --lang es --pipeline textcat --optimize efficiency --force config.cfg"
   ]
  },
  {
   "cell_type": "code",
   "execution_count": 38,
   "metadata": {},
   "outputs": [
    {
     "name": "stdout",
     "output_type": "stream",
     "text": [
      "2023-03-16 14:21:38.678015: E tensorflow/stream_executor/cuda/cuda_blas.cc:2981] Unable to register cuBLAS factory: Attempting to register factory for plugin cuBLAS when one has already been registered\n",
      "2023-03-16 14:21:39.199346: W tensorflow/compiler/xla/stream_executor/platform/default/dso_loader.cc:64] Could not load dynamic library 'libnvinfer.so.7'; dlerror: libnvinfer.so.7: cannot open shared object file: No such file or directory\n",
      "2023-03-16 14:21:39.199408: W tensorflow/compiler/xla/stream_executor/platform/default/dso_loader.cc:64] Could not load dynamic library 'libnvinfer_plugin.so.7'; dlerror: libnvinfer_plugin.so.7: cannot open shared object file: No such file or directory\n",
      "2023-03-16 14:21:39.199415: W tensorflow/compiler/tf2tensorrt/utils/py_utils.cc:38] TF-TRT Warning: Cannot dlopen some TensorRT libraries. If you would like to use Nvidia GPU with TensorRT, please make sure the missing libraries mentioned above are installed properly.\n",
      "2023-03-16 14:21:40.119332: W tensorflow/compiler/xla/stream_executor/platform/default/dso_loader.cc:64] Could not load dynamic library 'libcublas.so.11'; dlerror: libcublas.so.11: cannot open shared object file: No such file or directory\n",
      "2023-03-16 14:21:40.119390: W tensorflow/compiler/xla/stream_executor/platform/default/dso_loader.cc:64] Could not load dynamic library 'libcublasLt.so.11'; dlerror: libcublasLt.so.11: cannot open shared object file: No such file or directory\n",
      "2023-03-16 14:21:40.120910: W tensorflow/compiler/xla/stream_executor/platform/default/dso_loader.cc:64] Could not load dynamic library 'libcusolver.so.11'; dlerror: libcusolver.so.11: cannot open shared object file: No such file or directory\n",
      "2023-03-16 14:21:40.120953: W tensorflow/compiler/xla/stream_executor/platform/default/dso_loader.cc:64] Could not load dynamic library 'libcusparse.so.11'; dlerror: libcusparse.so.11: cannot open shared object file: No such file or directory\n",
      "2023-03-16 14:21:40.120980: W tensorflow/compiler/xla/stream_executor/platform/default/dso_loader.cc:64] Could not load dynamic library 'libcudnn.so.8'; dlerror: libcudnn.so.8: cannot open shared object file: No such file or directory\n",
      "2023-03-16 14:21:40.120989: W tensorflow/core/common_runtime/gpu/gpu_device.cc:1934] Cannot dlopen some GPU libraries. Please make sure the missing libraries mentioned above are installed properly if you would like to use GPU. Follow the guide at https://www.tensorflow.org/install/gpu for how to download and setup the required libraries for your platform.\n",
      "Skipping registering GPU devices...\n",
      "[2023-03-16 14:21:40,351] [DEBUG] Config overrides from CLI: ['paths.train', 'paths.dev']\n",
      "\u001b[38;5;4mℹ Saving to output directory: model\u001b[0m\n",
      "\u001b[38;5;4mℹ Using CPU\u001b[0m\n",
      "\u001b[1m\n",
      "=========================== Initializing pipeline ===========================\u001b[0m\n",
      "[2023-03-16 14:21:40,414] [INFO] Set up nlp object from config\n",
      "[2023-03-16 14:21:40,420] [DEBUG] Loading corpus from path: dev.spacy\n",
      "[2023-03-16 14:21:40,421] [DEBUG] Loading corpus from path: train.spacy\n",
      "[2023-03-16 14:21:40,421] [INFO] Pipeline: ['textcat']\n",
      "[2023-03-16 14:21:40,423] [INFO] Created vocabulary\n",
      "[2023-03-16 14:21:40,424] [INFO] Finished initializing nlp object\n",
      "[2023-03-16 14:21:44,737] [INFO] Initialized pipeline components: ['textcat']\n",
      "\u001b[38;5;2m✔ Initialized pipeline\u001b[0m\n",
      "\u001b[1m\n",
      "============================= Training pipeline =============================\u001b[0m\n",
      "[2023-03-16 14:21:44,744] [DEBUG] Loading corpus from path: dev.spacy\n",
      "[2023-03-16 14:21:44,745] [DEBUG] Loading corpus from path: train.spacy\n",
      "[2023-03-16 14:21:44,746] [DEBUG] Removed existing output directory: model/model-best\n",
      "[2023-03-16 14:21:44,746] [DEBUG] Removed existing output directory: model/model-last\n",
      "\u001b[38;5;4mℹ Pipeline: ['textcat']\u001b[0m\n",
      "\u001b[38;5;4mℹ Initial learn rate: 0.001\u001b[0m\n",
      "E    #       LOSS TEXTCAT  CATS_SCORE  SCORE \n",
      "---  ------  ------------  ----------  ------\n",
      "  0       0          0.25       32.71    0.33\n",
      "  0     200         47.13       71.23    0.71\n",
      "  0     400         32.77       78.76    0.79\n",
      "  0     600         32.01       80.25    0.80\n",
      "  0     800         29.61       81.38    0.81\n",
      "  0    1000         20.52       81.92    0.82\n",
      "  0    1200         29.11       84.71    0.85\n",
      "  0    1400         20.89       85.83    0.86\n",
      "  0    1600         23.30       85.55    0.86\n",
      "  0    1800         19.99       86.77    0.87\n",
      "  1    2000          5.08       86.10    0.86\n",
      "  1    2200          3.94       85.55    0.86\n",
      "  1    2400          4.02       85.41    0.85\n",
      "  2    2600          0.92       85.83    0.86\n",
      "  2    2800          0.92       85.83    0.86\n",
      "  3    3000          0.28       85.69    0.86\n",
      "  3    3200          0.51       85.83    0.86\n",
      "  4    3400          0.29       86.24    0.86\n",
      "\u001b[38;5;2m✔ Saved pipeline to output directory\u001b[0m\n",
      "model/model-last\n"
     ]
    }
   ],
   "source": [
    "!python3 -m spacy train config.cfg --paths.train ./train.spacy --paths.dev ./dev.spacy --output model --verbose"
   ]
  },
  {
   "cell_type": "code",
   "execution_count": 39,
   "metadata": {},
   "outputs": [
    {
     "name": "stdout",
     "output_type": "stream",
     "text": [
      "2023-03-16 14:22:26.125458: E tensorflow/stream_executor/cuda/cuda_blas.cc:2981] Unable to register cuBLAS factory: Attempting to register factory for plugin cuBLAS when one has already been registered\n",
      "2023-03-16 14:22:26.636211: W tensorflow/compiler/xla/stream_executor/platform/default/dso_loader.cc:64] Could not load dynamic library 'libnvinfer.so.7'; dlerror: libnvinfer.so.7: cannot open shared object file: No such file or directory\n",
      "2023-03-16 14:22:26.636268: W tensorflow/compiler/xla/stream_executor/platform/default/dso_loader.cc:64] Could not load dynamic library 'libnvinfer_plugin.so.7'; dlerror: libnvinfer_plugin.so.7: cannot open shared object file: No such file or directory\n",
      "2023-03-16 14:22:26.636274: W tensorflow/compiler/tf2tensorrt/utils/py_utils.cc:38] TF-TRT Warning: Cannot dlopen some TensorRT libraries. If you would like to use Nvidia GPU with TensorRT, please make sure the missing libraries mentioned above are installed properly.\n",
      "2023-03-16 14:22:27.560119: W tensorflow/compiler/xla/stream_executor/platform/default/dso_loader.cc:64] Could not load dynamic library 'libcublas.so.11'; dlerror: libcublas.so.11: cannot open shared object file: No such file or directory\n",
      "2023-03-16 14:22:27.560189: W tensorflow/compiler/xla/stream_executor/platform/default/dso_loader.cc:64] Could not load dynamic library 'libcublasLt.so.11'; dlerror: libcublasLt.so.11: cannot open shared object file: No such file or directory\n",
      "2023-03-16 14:22:27.561642: W tensorflow/compiler/xla/stream_executor/platform/default/dso_loader.cc:64] Could not load dynamic library 'libcusolver.so.11'; dlerror: libcusolver.so.11: cannot open shared object file: No such file or directory\n",
      "2023-03-16 14:22:27.561681: W tensorflow/compiler/xla/stream_executor/platform/default/dso_loader.cc:64] Could not load dynamic library 'libcusparse.so.11'; dlerror: libcusparse.so.11: cannot open shared object file: No such file or directory\n",
      "2023-03-16 14:22:27.561706: W tensorflow/compiler/xla/stream_executor/platform/default/dso_loader.cc:64] Could not load dynamic library 'libcudnn.so.8'; dlerror: libcudnn.so.8: cannot open shared object file: No such file or directory\n",
      "2023-03-16 14:22:27.561713: W tensorflow/core/common_runtime/gpu/gpu_device.cc:1934] Cannot dlopen some GPU libraries. Please make sure the missing libraries mentioned above are installed properly if you would like to use GPU. Follow the guide at https://www.tensorflow.org/install/gpu for how to download and setup the required libraries for your platform.\n",
      "Skipping registering GPU devices...\n",
      "\u001b[38;5;4mℹ Using CPU\u001b[0m\n",
      "\u001b[1m\n",
      "================================== Results ==================================\u001b[0m\n",
      "\n",
      "TOK                 100.00\n",
      "TEXTCAT (macro F)   86.25 \n",
      "SPEED               655518\n",
      "\n",
      "\u001b[1m\n",
      "=========================== Textcat F (per label) ===========================\u001b[0m\n",
      "\n",
      "          P       R       F\n",
      "POS   90.27   82.26   86.08\n",
      "NEG   82.68   90.52   86.42\n",
      "\n",
      "\u001b[1m\n",
      "======================== Textcat ROC AUC (per label) ========================\u001b[0m\n",
      "\n",
      "      ROC AUC\n",
      "POS      0.93\n",
      "NEG      0.93\n",
      "\n"
     ]
    }
   ],
   "source": [
    "!python3 -m spacy evaluate ./model/model-best/ ./test.spacy"
   ]
  },
  {
   "cell_type": "code",
   "execution_count": 40,
   "metadata": {},
   "outputs": [
    {
     "name": "stdout",
     "output_type": "stream",
     "text": [
      "{'POS': 0.1581939309835434, 'NEG': 0.8418060541152954} - La pelicula es innecesariamente larga. A ratos se vuelve aburrida y es dificil de seguir.\n",
      "{'POS': 0.4453706741333008, 'NEG': 0.5546293258666992} - Me arrepiento de haber comprado en esta tienda.\n"
     ]
    }
   ],
   "source": [
    "texts = [\"La pelicula es innecesariamente larga. A ratos se vuelve aburrida y es dificil de seguir.\", \"Me arrepiento de haber comprado en esta tienda.\"]\n",
    "nlp = spacy.load(\"./model/model-best\")\n",
    "for text in texts:\n",
    "    doc = nlp(preprocessing(text))\n",
    "    print(doc.cats,  \"-\",  text)"
   ]
  },
  {
   "cell_type": "code",
   "execution_count": null,
   "metadata": {},
   "outputs": [],
   "source": []
  }
 ],
 "metadata": {
  "kernelspec": {
   "display_name": "Python 3 (ipykernel)",
   "language": "python",
   "name": "python3"
  },
  "language_info": {
   "codemirror_mode": {
    "name": "ipython",
    "version": 3
   },
   "file_extension": ".py",
   "mimetype": "text/x-python",
   "name": "python",
   "nbconvert_exporter": "python",
   "pygments_lexer": "ipython3",
   "version": "3.10.10"
  }
 },
 "nbformat": 4,
 "nbformat_minor": 4
}
