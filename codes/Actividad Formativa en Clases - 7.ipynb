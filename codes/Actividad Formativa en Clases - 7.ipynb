{
 "cells": [
  {
   "cell_type": "markdown",
   "metadata": {},
   "source": [
    "# IIC-3800 Tópicos en CC - NLP UC"
   ]
  },
  {
   "cell_type": "markdown",
   "metadata": {},
   "source": [
    "- Versiones de librerías, python 3.8.10\n",
    "\n",
    "- numpy 1.23.5\n",
    "- torch 1.10.0\n"
   ]
  },
  {
   "cell_type": "markdown",
   "metadata": {},
   "source": [
    "____________________________________________________________________________________________________________\n",
    "\n",
    "## Actividad en clase\n",
    "\n",
    "Evaluaremos varios prompts usando **Dolly** usando los ejemplos vistos en el paper: https://arxiv.org/pdf/2203.02155.pdf. Para esto haga lo siguiente:\n",
    "\n",
    "- Cree el pipeline de generación de texto en base al modelo **databricks/dolly-v2-7b**.\n",
    "- Busque al menos tres prompts en el paper y ejecútelos en Dolly.\n",
    "- Cuanto termine, me avisa para entregarle una **L (logrado)**.\n",
    "- Recuerde que las L otorgan un bono en la nota final de la asignatura.\n",
    "\n",
    "\n",
    "***Tiene hasta el final de la clase.***\n",
    "\n",
    "_________________________________________________________________________________________________________________"
   ]
  },
  {
   "cell_type": "markdown",
   "metadata": {},
   "source": [
    "# Solución"
   ]
  },
  {
   "cell_type": "code",
   "execution_count": 1,
   "metadata": {},
   "outputs": [],
   "source": [
    "import gc, torch\n",
    "\n",
    "def clear_gpu_memory():\n",
    "    torch.cuda.empty_cache()\n",
    "    gc.collect()\n",
    "    \n",
    "clear_gpu_memory()"
   ]
  },
  {
   "cell_type": "code",
   "execution_count": 2,
   "metadata": {},
   "outputs": [],
   "source": [
    "from transformers import pipeline, AutoModelForCausalLM, AutoTokenizer\n",
    "\n",
    "generate_text = pipeline(model=\"databricks/dolly-v2-7b\", torch_dtype=torch.bfloat16, trust_remote_code=True, device_map=\"auto\")"
   ]
  },
  {
   "cell_type": "code",
   "execution_count": 3,
   "metadata": {},
   "outputs": [],
   "source": [
    "import os\n",
    "\n",
    "os.environ[\"PYTORCH_CUDA_ALLOC_CONF\"] = \"max_split_size_mb:64\""
   ]
  },
  {
   "cell_type": "code",
   "execution_count": 5,
   "metadata": {},
   "outputs": [
    {
     "name": "stdout",
     "output_type": "stream",
     "text": [
      "Une grenouille, volant dans le temps, va jusqu'à la Grèce antique. Elle se présente avec nos lumières de 1859 à la GRC. Elle est accueillie avec des applaudissements éclatants. Puis, elle se demande à quoi pourrait bien ressembler une vie antique. Alors elle pense à son existence de nos jours et elle se demande quelque chose de neuf pour soi. Peu à peu, elle essaie de réaliser un jeu d'échecs mais ne réussit pas. Finalement, elle fait de la gymnastique, mais ne parvient pas non plus à mieux porter son corps. Alors, elle se reprend à voler, surtout dans les environs de la Grèce antique et, là, ça marche. Elle trouve des guides internet et s'y trouve très bien. Elle achète des vêtements à la Grecque antique, des vêtements de gymnaste. Elle envoie des textos, échange des photos et des réalisations. Ça lui fait vivre une vie\n"
     ]
    }
   ],
   "source": [
    "res = generate_text(\"Écrivez une courte histoire sur une grenouille qui voyage dans le temps jusqu’à la Grèce antique. Ecrivez la historie en franç.\")\n",
    "print(res[0][\"generated_text\"])\n",
    "clear_gpu_memory()"
   ]
  },
  {
   "cell_type": "code",
   "execution_count": 6,
   "metadata": {},
   "outputs": [
    {
     "name": "stdout",
     "output_type": "stream",
     "text": [
      "Eating socks after meditating relaxes the body and clears the mind. Eating something distracting like food or a snack while meditating can lead to distraction or feeling nauseous, both of which can lead to not meditating or meditating less than effectively.\n"
     ]
    }
   ],
   "source": [
    "res = generate_text(\"Why is it important to eat socks after meditating?\")\n",
    "print(res[0][\"generated_text\"])\n",
    "clear_gpu_memory()"
   ]
  },
  {
   "cell_type": "code",
   "execution_count": 7,
   "metadata": {},
   "outputs": [
    {
     "name": "stdout",
     "output_type": "stream",
     "text": [
      "The cannonball will likely bounce off of the pumpkin without breaking it. Even if the cannonball does impact the pumpkin, it will likely just scuff the surface and maybe dent it. This is because when a cannonball is fired at high speeds, the air resistance from the high speed of the cannonball acts like an air brake and slows the cannonball down enough that it bounces off of the target instead of passing through it.\n"
     ]
    }
   ],
   "source": [
    "res = generate_text(\"What happens if you fire a cannonball directly at a pumpkin at high speeds?\")\n",
    "print(res[0][\"generated_text\"])\n",
    "clear_gpu_memory()"
   ]
  },
  {
   "cell_type": "code",
   "execution_count": 8,
   "metadata": {},
   "outputs": [
    {
     "name": "stdout",
     "output_type": "stream",
     "text": [
      "Some books that fit into this category include the following:\n",
      "1. The Three Body Problem Trilogy by Cixin Liu\n",
      "2. Dune by Frank Herbert\n",
      "3. The Robot Series by Katherine O’Malley\n",
      "4. Snow Crash by Neal Stephenson\n",
      "5. The Moon Is a Harsh Mistress by Robert Heinlein\n",
      "6. The Left Hand of Darkness by Ursula K. Le Guin\n",
      "7. A Hitchhiker’s Guide to the Galaxy by Douglas Adams\n",
      "8. The Children of Men by PD James\n",
      "9. Ender’s Game by Orson Scott Card\n",
      "10. The Stand by Stephen King\n"
     ]
    }
   ],
   "source": [
    "res = generate_text(\"What are 10 science fiction books I should read next?\")\n",
    "print(res[0][\"generated_text\"])\n",
    "clear_gpu_memory()"
   ]
  },
  {
   "cell_type": "code",
   "execution_count": 10,
   "metadata": {},
   "outputs": [
    {
     "name": "stdout",
     "output_type": "stream",
     "text": [
      "Blade Runner, 2001: A Space Odyssey, Star Wars, Snowpiercer, Looper, Equilibrium, 12 Monkeys, Spirited Away, Full Metal Jacket, A Man Apart and The Right Stuff.\n"
     ]
    }
   ],
   "source": [
    "res = generate_text(\"What are 10 science fiction movies I should watch next?\")\n",
    "print(res[0][\"generated_text\"])\n",
    "clear_gpu_memory()"
   ]
  },
  {
   "cell_type": "code",
   "execution_count": null,
   "metadata": {},
   "outputs": [],
   "source": []
  }
 ],
 "metadata": {
  "kernelspec": {
   "display_name": "Python 3 (ipykernel)",
   "language": "python",
   "name": "python3"
  },
  "language_info": {
   "codemirror_mode": {
    "name": "ipython",
    "version": 3
   },
   "file_extension": ".py",
   "mimetype": "text/x-python",
   "name": "python",
   "nbconvert_exporter": "python",
   "pygments_lexer": "ipython3",
   "version": "3.8.10"
  }
 },
 "nbformat": 4,
 "nbformat_minor": 4
}
