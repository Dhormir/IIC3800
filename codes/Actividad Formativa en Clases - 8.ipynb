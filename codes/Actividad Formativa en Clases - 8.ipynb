{
 "cells": [
  {
   "cell_type": "markdown",
   "metadata": {},
   "source": [
    "# IIC-3800 Tópicos en CC - NLP UC"
   ]
  },
  {
   "cell_type": "markdown",
   "metadata": {},
   "source": [
    "____________________________________________________________________________________________________________\n",
    "\n",
    "## Actividad en clase\n",
    "\n",
    "Evaluaremos cuatro prompts usando **Dolly** y los vamos a comparar con los resultados que se obtienen a partir de los modelos dependency parsing de Spacy y entity linking de Flair que vimos en clases.\n",
    "\n",
    "- Cree el pipeline de generación de texto en base al modelo **databricks/dolly-v2-7b**.\n",
    "- Diseñe un prompt que permita obtener los POS tags de una oración en Dolly.\n",
    "- Diseñe un prompt que permita obtener los NER tags de una oración en Dolly.\n",
    "- Diseñe un prompt que permita obtener el dependency parsing de una oración en Dolly.\n",
    "- Corra su prompt sobre una oración de ejemplo y compare el resultado con la obtenida por el parser de Spacy.\n",
    "- Diseñe un prompt que permita obtener los tags de entity linking de una oración en Dolly.\n",
    "- Corra su prompt sobre una oración de ejemplo y compare el resultado con la obtenida por el linker de Flair.\n",
    "- Cuando termine, me avisa para entregarle una **L (logrado)**.\n",
    "- Recuerde que las L otorgan un bono en la nota final de la asignatura.\n",
    "\n",
    "\n",
    "***Tiene hasta el final de la clase.***\n",
    "\n",
    "_________________________________________________________________________________________________________________"
   ]
  },
  {
   "cell_type": "markdown",
   "metadata": {},
   "source": [
    "# Solución"
   ]
  },
  {
   "cell_type": "code",
   "execution_count": 1,
   "metadata": {},
   "outputs": [],
   "source": [
    "import gc, torch\n",
    "\n",
    "def clear_gpu_memory():\n",
    "    torch.cuda.empty_cache()\n",
    "    gc.collect()\n",
    "    \n",
    "clear_gpu_memory()"
   ]
  },
  {
   "cell_type": "code",
   "execution_count": 2,
   "metadata": {},
   "outputs": [],
   "source": [
    "from transformers import pipeline, AutoModelForCausalLM, AutoTokenizer\n",
    "\n",
    "generate_text = pipeline(model=\"databricks/dolly-v2-7b\", torch_dtype=torch.bfloat16, trust_remote_code=True, device_map=\"auto\")"
   ]
  },
  {
   "cell_type": "code",
   "execution_count": 3,
   "metadata": {},
   "outputs": [],
   "source": [
    "import os\n",
    "\n",
    "os.environ[\"PYTORCH_CUDA_ALLOC_CONF\"] = \"max_split_size_mb:64\""
   ]
  },
  {
   "cell_type": "code",
   "execution_count": 4,
   "metadata": {},
   "outputs": [
    {
     "name": "stdout",
     "output_type": "stream",
     "text": [
      "The sentence is:\n",
      "Paredes breaks Chamaco Valdes' record and leaves U in the relegation zone is a noun\n",
      "The part-of-speech (POS) tag is:\n",
      "P is a preposition; R is a adjective; E is a proper noun; D is a noun; S is a verb; C is a adjective; O is an adverb; Z is a noun;  is a article\n",
      "Noun: Paredes, Chamaco Valdes, U, Record, relegation zone, Parejo, Chamaco Valdes, U, relegation zone, preposition, Paredes, Chamaco Valdes, U, Record, relegation zone, Chamaco Valdes, U, relegation zone, U\n"
     ]
    }
   ],
   "source": [
    "res = generate_text('''Provide the part-of-speech tags (POS tags) of the following sentence \"Paredes breaks Chamaco Valdes' record and leaves U in the relegation zone.\"''')\n",
    "print(res[0][\"generated_text\"])\n",
    "clear_gpu_memory()"
   ]
  },
  {
   "cell_type": "code",
   "execution_count": 6,
   "metadata": {},
   "outputs": [
    {
     "name": "stdout",
     "output_type": "stream",
     "text": [
      "Paredes, Chamaco Valdes, U, record, relegation zone\n"
     ]
    }
   ],
   "source": [
    "res = generate_text('''List the named entities of the following sentence \"Paredes breaks Chamaco Valdes' record and leaves U in the relegation zone.\"''')\n",
    "print(res[0][\"generated_text\"])\n",
    "clear_gpu_memory()"
   ]
  },
  {
   "cell_type": "code",
   "execution_count": 7,
   "metadata": {},
   "outputs": [
    {
     "name": "stdout",
     "output_type": "stream",
     "text": [
      "Paredes breaks Chamaco Valdes' record and leaves U in the relegation zone uses the following dependency parsing tags:\n",
      "\tNP\tChamaco Valdes\n",
      "\tPP\tParedes\n",
      "\tVP\tbreaks\n",
      "\tNP\tChamaco Valdes' record\n",
      "\tNP\tParedes'\n",
      "\tPP\trecord\n",
      "\tNP\tleaves\n",
      "\tNP\tU\n"
     ]
    }
   ],
   "source": [
    "res = generate_text('''List the dependency parsing tags of the following sentence \"Paredes breaks Chamaco Valdes' record and leaves U in the relegation zone.\"''')\n",
    "print(res[0][\"generated_text\"])\n",
    "clear_gpu_memory()"
   ]
  },
  {
   "cell_type": "code",
   "execution_count": 8,
   "metadata": {},
   "outputs": [
    {
     "name": "stdout",
     "output_type": "stream",
     "text": [
      "Paredes is a baseball player for the Atlanta Braves. He broke Chamaco Valdes' record and left U in the relegation zone.\n"
     ]
    }
   ],
   "source": [
    "res = generate_text('''Link the named entities of the following sentence to entities described in wikipedia \"Paredes breaks Chamaco Valdes' record and leaves U in the relegation zone.\"''')\n",
    "print(res[0][\"generated_text\"])\n",
    "clear_gpu_memory()"
   ]
  },
  {
   "cell_type": "code",
   "execution_count": null,
   "metadata": {},
   "outputs": [],
   "source": []
  }
 ],
 "metadata": {
  "kernelspec": {
   "display_name": "Python 3 (ipykernel)",
   "language": "python",
   "name": "python3"
  },
  "language_info": {
   "codemirror_mode": {
    "name": "ipython",
    "version": 3
   },
   "file_extension": ".py",
   "mimetype": "text/x-python",
   "name": "python",
   "nbconvert_exporter": "python",
   "pygments_lexer": "ipython3",
   "version": "3.8.10"
  }
 },
 "nbformat": 4,
 "nbformat_minor": 4
}
