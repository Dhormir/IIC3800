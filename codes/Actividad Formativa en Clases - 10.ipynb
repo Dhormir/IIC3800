{
 "cells": [
  {
   "cell_type": "markdown",
   "metadata": {},
   "source": [
    "# IIC-3800 Tópicos en CC - NLP UC"
   ]
  },
  {
   "cell_type": "markdown",
   "metadata": {},
   "source": [
    "____________________________________________________________________________________________________________\n",
    "\n",
    "## Actividad en clase\n",
    "\n",
    "Vamos a construir un traductor Inglés-Castellano.\n",
    "\n",
    "- Descargue desde datasets el corpus paralelo **opus-books** partición **en-es**.\n",
    "- Haga checkpoint a **t5-small**.\n",
    "- Haga fine-tuning de **t5-small** con el corpus paralelo.\n",
    "- Guarde localmente el nuevo modelo.\n",
    "- Use su modelo para traducir al Castellano la oración \"translate English to Spanish: Legumes share resources with nitrogen-fixing bacteria\".\n",
    "- Cuando termine, me avisa para entregarle una **L (logrado)**.\n",
    "- Recuerde que las L otorgan un bono en la nota final de la asignatura.\n",
    "\n",
    "\n",
    "***Tiene hasta el final de la clase.***\n",
    "\n",
    "_________________________________________________________________________________________________________________"
   ]
  },
  {
   "cell_type": "markdown",
   "metadata": {},
   "source": [
    "# Solución"
   ]
  },
  {
   "cell_type": "code",
   "execution_count": 1,
   "metadata": {},
   "outputs": [
    {
     "data": {
      "application/vnd.jupyter.widget-view+json": {
       "model_id": "ec1da8b52123422887988a08241b3da5",
       "version_major": 2,
       "version_minor": 0
      },
      "text/plain": [
       "VBox(children=(HTML(value='<center> <img\\nsrc=https://huggingface.co/front/assets/huggingface_logo-noborder.sv…"
      ]
     },
     "metadata": {},
     "output_type": "display_data"
    }
   ],
   "source": [
    "from huggingface_hub import notebook_login\n",
    "\n",
    "notebook_login()"
   ]
  },
  {
   "cell_type": "code",
   "execution_count": 2,
   "metadata": {},
   "outputs": [
    {
     "name": "stdout",
     "output_type": "stream",
     "text": [
      "4.25.1\n"
     ]
    }
   ],
   "source": [
    "import transformers\n",
    "\n",
    "print(transformers.__version__)"
   ]
  },
  {
   "cell_type": "code",
   "execution_count": 3,
   "metadata": {},
   "outputs": [],
   "source": [
    "from transformers.utils import send_example_telemetry\n",
    "\n",
    "send_example_telemetry(\"language_modeling_notebook\", framework=\"pytorch\")"
   ]
  },
  {
   "cell_type": "code",
   "execution_count": 4,
   "metadata": {},
   "outputs": [
    {
     "name": "stdout",
     "output_type": "stream",
     "text": [
      "Downloading and preparing dataset opus_books/en-es to C:/Users/marce/.cache/huggingface/datasets/opus_books/en-es/1.0.0/e8f950a4f32dc39b7f9088908216cd2d7e21ac35f893d04d39eb594746af2daf...\n"
     ]
    },
    {
     "data": {
      "application/vnd.jupyter.widget-view+json": {
       "model_id": "e5e6f6fd23e4493588b892e69e6ad0e3",
       "version_major": 2,
       "version_minor": 0
      },
      "text/plain": [
       "Downloading data:   0%|          | 0.00/9.26M [00:00<?, ?B/s]"
      ]
     },
     "metadata": {},
     "output_type": "display_data"
    },
    {
     "data": {
      "application/vnd.jupyter.widget-view+json": {
       "model_id": "",
       "version_major": 2,
       "version_minor": 0
      },
      "text/plain": [
       "Generating train split:   0%|          | 0/93470 [00:00<?, ? examples/s]"
      ]
     },
     "metadata": {},
     "output_type": "display_data"
    },
    {
     "name": "stdout",
     "output_type": "stream",
     "text": [
      "Dataset opus_books downloaded and prepared to C:/Users/marce/.cache/huggingface/datasets/opus_books/en-es/1.0.0/e8f950a4f32dc39b7f9088908216cd2d7e21ac35f893d04d39eb594746af2daf. Subsequent calls will reuse this data.\n"
     ]
    },
    {
     "data": {
      "application/vnd.jupyter.widget-view+json": {
       "model_id": "dce7413d1a4045d6b5f7060ca8f42de1",
       "version_major": 2,
       "version_minor": 0
      },
      "text/plain": [
       "  0%|          | 0/1 [00:00<?, ?it/s]"
      ]
     },
     "metadata": {},
     "output_type": "display_data"
    }
   ],
   "source": [
    "from datasets import load_dataset\n",
    "\n",
    "books = load_dataset(\"opus_books\", \"en-es\")"
   ]
  },
  {
   "cell_type": "code",
   "execution_count": 5,
   "metadata": {},
   "outputs": [],
   "source": [
    "books = books[\"train\"].train_test_split(test_size=0.2)"
   ]
  },
  {
   "cell_type": "code",
   "execution_count": 6,
   "metadata": {},
   "outputs": [
    {
     "data": {
      "text/plain": [
       "{'id': '33361',\n",
       " 'translation': {'en': 'He had long, quivering fingers as agile and restless as the antennae of an insect.',\n",
       "  'es': 'Sus dedos, largos y temblorosos, eran tan ágiles e inquietos como las antenas de un insecto.'}}"
      ]
     },
     "execution_count": 6,
     "metadata": {},
     "output_type": "execute_result"
    }
   ],
   "source": [
    "books[\"train\"][0]"
   ]
  },
  {
   "cell_type": "code",
   "execution_count": 7,
   "metadata": {},
   "outputs": [],
   "source": [
    "from transformers import AutoTokenizer\n",
    "\n",
    "checkpoint = \"t5-small\"\n",
    "tokenizer = AutoTokenizer.from_pretrained(checkpoint)"
   ]
  },
  {
   "cell_type": "code",
   "execution_count": 8,
   "metadata": {},
   "outputs": [],
   "source": [
    "source_lang = \"en\"\n",
    "target_lang = \"es\"\n",
    "prefix = \"translate English to Spanish: \"\n",
    "\n",
    "\n",
    "def preprocess_function(examples):\n",
    "    inputs = [prefix + example[source_lang] for example in examples[\"translation\"]]\n",
    "    targets = [example[target_lang] for example in examples[\"translation\"]]\n",
    "    model_inputs = tokenizer(inputs, text_target=targets, max_length=128, truncation=True)\n",
    "    return model_inputs"
   ]
  },
  {
   "cell_type": "code",
   "execution_count": 9,
   "metadata": {},
   "outputs": [
    {
     "data": {
      "application/vnd.jupyter.widget-view+json": {
       "model_id": "",
       "version_major": 2,
       "version_minor": 0
      },
      "text/plain": [
       "Map:   0%|          | 0/74776 [00:00<?, ? examples/s]"
      ]
     },
     "metadata": {},
     "output_type": "display_data"
    },
    {
     "data": {
      "application/vnd.jupyter.widget-view+json": {
       "model_id": "",
       "version_major": 2,
       "version_minor": 0
      },
      "text/plain": [
       "Map:   0%|          | 0/18694 [00:00<?, ? examples/s]"
      ]
     },
     "metadata": {},
     "output_type": "display_data"
    }
   ],
   "source": [
    "tokenized_books = books.map(preprocess_function, batched=True)"
   ]
  },
  {
   "cell_type": "code",
   "execution_count": 10,
   "metadata": {},
   "outputs": [],
   "source": [
    "from transformers import DataCollatorForSeq2Seq\n",
    "\n",
    "data_collator = DataCollatorForSeq2Seq(tokenizer=tokenizer, model=checkpoint)"
   ]
  },
  {
   "cell_type": "code",
   "execution_count": 11,
   "metadata": {},
   "outputs": [],
   "source": [
    "import evaluate\n",
    "\n",
    "metric = evaluate.load(\"sacrebleu\")"
   ]
  },
  {
   "cell_type": "code",
   "execution_count": 12,
   "metadata": {},
   "outputs": [],
   "source": [
    "import numpy as np\n",
    "\n",
    "\n",
    "def postprocess_text(preds, labels):\n",
    "    preds = [pred.strip() for pred in preds]\n",
    "    labels = [[label.strip()] for label in labels]\n",
    "\n",
    "    return preds, labels\n",
    "\n",
    "\n",
    "def compute_metrics(eval_preds):\n",
    "    preds, labels = eval_preds\n",
    "    if isinstance(preds, tuple):\n",
    "        preds = preds[0]\n",
    "    decoded_preds = tokenizer.batch_decode(preds, skip_special_tokens=True)\n",
    "\n",
    "    labels = np.where(labels != -100, labels, tokenizer.pad_token_id)\n",
    "    decoded_labels = tokenizer.batch_decode(labels, skip_special_tokens=True)\n",
    "\n",
    "    decoded_preds, decoded_labels = postprocess_text(decoded_preds, decoded_labels)\n",
    "\n",
    "    result = metric.compute(predictions=decoded_preds, references=decoded_labels)\n",
    "    result = {\"bleu\": result[\"score\"]}\n",
    "\n",
    "    prediction_lens = [np.count_nonzero(pred != tokenizer.pad_token_id) for pred in preds]\n",
    "    result[\"gen_len\"] = np.mean(prediction_lens)\n",
    "    result = {k: round(v, 4) for k, v in result.items()}\n",
    "    return result"
   ]
  },
  {
   "cell_type": "code",
   "execution_count": 13,
   "metadata": {},
   "outputs": [],
   "source": [
    "from transformers import AutoModelForSeq2SeqLM, Seq2SeqTrainingArguments, Seq2SeqTrainer\n",
    "\n",
    "model = AutoModelForSeq2SeqLM.from_pretrained(checkpoint)"
   ]
  },
  {
   "cell_type": "code",
   "execution_count": 15,
   "metadata": {},
   "outputs": [
    {
     "name": "stderr",
     "output_type": "stream",
     "text": [
      "PyTorch: setting up devices\n",
      "The default value for the training argument `--report_to` will change in v5 (from all installed integrations to none). In v5, you will need to use `--report_to all` to get the same behavior as now. You should start updating your code and make this info disappear :-).\n",
      "Using cuda_amp half precision backend\n",
      "The following columns in the training set don't have a corresponding argument in `T5ForConditionalGeneration.forward` and have been ignored: id, translation. If id, translation are not expected by `T5ForConditionalGeneration.forward`,  you can safely ignore this message.\n",
      "C:\\Users\\marce\\AppData\\Local\\Packages\\PythonSoftwareFoundation.Python.3.8_qbz5n2kfra8p0\\LocalCache\\local-packages\\Python38\\site-packages\\transformers\\optimization.py:306: FutureWarning: This implementation of AdamW is deprecated and will be removed in a future version. Use the PyTorch implementation torch.optim.AdamW instead, or set `no_deprecation_warning=True` to disable this warning\n",
      "  warnings.warn(\n",
      "***** Running training *****\n",
      "  Num examples = 74776\n",
      "  Num Epochs = 2\n",
      "  Instantaneous batch size per device = 16\n",
      "  Total train batch size (w. parallel, distributed & accumulation) = 16\n",
      "  Gradient Accumulation steps = 1\n",
      "  Total optimization steps = 9348\n",
      "  Number of trainable parameters = 60506624\n"
     ]
    },
    {
     "data": {
      "text/html": [
       "\n",
       "    <div>\n",
       "      \n",
       "      <progress value='9348' max='9348' style='width:300px; height:20px; vertical-align: middle;'></progress>\n",
       "      [9348/9348 29:08, Epoch 2/2]\n",
       "    </div>\n",
       "    <table border=\"1\" class=\"dataframe\">\n",
       "  <thead>\n",
       " <tr style=\"text-align: left;\">\n",
       "      <th>Epoch</th>\n",
       "      <th>Training Loss</th>\n",
       "      <th>Validation Loss</th>\n",
       "      <th>Bleu</th>\n",
       "      <th>Gen Len</th>\n",
       "    </tr>\n",
       "  </thead>\n",
       "  <tbody>\n",
       "    <tr>\n",
       "      <td>1</td>\n",
       "      <td>2.890700</td>\n",
       "      <td>2.582614</td>\n",
       "      <td>0.376300</td>\n",
       "      <td>18.213300</td>\n",
       "    </tr>\n",
       "    <tr>\n",
       "      <td>2</td>\n",
       "      <td>2.813900</td>\n",
       "      <td>2.519780</td>\n",
       "      <td>0.439700</td>\n",
       "      <td>18.195600</td>\n",
       "    </tr>\n",
       "  </tbody>\n",
       "</table><p>"
      ],
      "text/plain": [
       "<IPython.core.display.HTML object>"
      ]
     },
     "metadata": {},
     "output_type": "display_data"
    },
    {
     "name": "stderr",
     "output_type": "stream",
     "text": [
      "Saving model checkpoint to my_spanish_books_model\\checkpoint-500\n",
      "Configuration saved in my_spanish_books_model\\checkpoint-500\\config.json\n",
      "Model weights saved in my_spanish_books_model\\checkpoint-500\\pytorch_model.bin\n",
      "tokenizer config file saved in my_spanish_books_model\\checkpoint-500\\tokenizer_config.json\n",
      "Special tokens file saved in my_spanish_books_model\\checkpoint-500\\special_tokens_map.json\n",
      "Copy vocab file to my_spanish_books_model\\checkpoint-500\\spiece.model\n",
      "Saving model checkpoint to my_spanish_books_model\\checkpoint-1000\n",
      "Configuration saved in my_spanish_books_model\\checkpoint-1000\\config.json\n",
      "Model weights saved in my_spanish_books_model\\checkpoint-1000\\pytorch_model.bin\n",
      "tokenizer config file saved in my_spanish_books_model\\checkpoint-1000\\tokenizer_config.json\n",
      "Special tokens file saved in my_spanish_books_model\\checkpoint-1000\\special_tokens_map.json\n",
      "Copy vocab file to my_spanish_books_model\\checkpoint-1000\\spiece.model\n",
      "Saving model checkpoint to my_spanish_books_model\\checkpoint-1500\n",
      "Configuration saved in my_spanish_books_model\\checkpoint-1500\\config.json\n",
      "Model weights saved in my_spanish_books_model\\checkpoint-1500\\pytorch_model.bin\n",
      "tokenizer config file saved in my_spanish_books_model\\checkpoint-1500\\tokenizer_config.json\n",
      "Special tokens file saved in my_spanish_books_model\\checkpoint-1500\\special_tokens_map.json\n",
      "Copy vocab file to my_spanish_books_model\\checkpoint-1500\\spiece.model\n",
      "Saving model checkpoint to my_spanish_books_model\\checkpoint-2000\n",
      "Configuration saved in my_spanish_books_model\\checkpoint-2000\\config.json\n",
      "Model weights saved in my_spanish_books_model\\checkpoint-2000\\pytorch_model.bin\n",
      "tokenizer config file saved in my_spanish_books_model\\checkpoint-2000\\tokenizer_config.json\n",
      "Special tokens file saved in my_spanish_books_model\\checkpoint-2000\\special_tokens_map.json\n",
      "Copy vocab file to my_spanish_books_model\\checkpoint-2000\\spiece.model\n",
      "Deleting older checkpoint [my_spanish_books_model\\checkpoint-500] due to args.save_total_limit\n",
      "Saving model checkpoint to my_spanish_books_model\\checkpoint-2500\n",
      "Configuration saved in my_spanish_books_model\\checkpoint-2500\\config.json\n",
      "Model weights saved in my_spanish_books_model\\checkpoint-2500\\pytorch_model.bin\n",
      "tokenizer config file saved in my_spanish_books_model\\checkpoint-2500\\tokenizer_config.json\n",
      "Special tokens file saved in my_spanish_books_model\\checkpoint-2500\\special_tokens_map.json\n",
      "Copy vocab file to my_spanish_books_model\\checkpoint-2500\\spiece.model\n",
      "Deleting older checkpoint [my_spanish_books_model\\checkpoint-1000] due to args.save_total_limit\n",
      "Saving model checkpoint to my_spanish_books_model\\checkpoint-3000\n",
      "Configuration saved in my_spanish_books_model\\checkpoint-3000\\config.json\n",
      "Model weights saved in my_spanish_books_model\\checkpoint-3000\\pytorch_model.bin\n",
      "tokenizer config file saved in my_spanish_books_model\\checkpoint-3000\\tokenizer_config.json\n",
      "Special tokens file saved in my_spanish_books_model\\checkpoint-3000\\special_tokens_map.json\n",
      "Copy vocab file to my_spanish_books_model\\checkpoint-3000\\spiece.model\n",
      "Deleting older checkpoint [my_spanish_books_model\\checkpoint-1500] due to args.save_total_limit\n",
      "Saving model checkpoint to my_spanish_books_model\\checkpoint-3500\n",
      "Configuration saved in my_spanish_books_model\\checkpoint-3500\\config.json\n",
      "Model weights saved in my_spanish_books_model\\checkpoint-3500\\pytorch_model.bin\n",
      "tokenizer config file saved in my_spanish_books_model\\checkpoint-3500\\tokenizer_config.json\n",
      "Special tokens file saved in my_spanish_books_model\\checkpoint-3500\\special_tokens_map.json\n",
      "Copy vocab file to my_spanish_books_model\\checkpoint-3500\\spiece.model\n",
      "Deleting older checkpoint [my_spanish_books_model\\checkpoint-2000] due to args.save_total_limit\n",
      "Saving model checkpoint to my_spanish_books_model\\checkpoint-4000\n",
      "Configuration saved in my_spanish_books_model\\checkpoint-4000\\config.json\n",
      "Model weights saved in my_spanish_books_model\\checkpoint-4000\\pytorch_model.bin\n",
      "tokenizer config file saved in my_spanish_books_model\\checkpoint-4000\\tokenizer_config.json\n",
      "Special tokens file saved in my_spanish_books_model\\checkpoint-4000\\special_tokens_map.json\n",
      "Copy vocab file to my_spanish_books_model\\checkpoint-4000\\spiece.model\n",
      "Deleting older checkpoint [my_spanish_books_model\\checkpoint-2500] due to args.save_total_limit\n",
      "Saving model checkpoint to my_spanish_books_model\\checkpoint-4500\n",
      "Configuration saved in my_spanish_books_model\\checkpoint-4500\\config.json\n",
      "Model weights saved in my_spanish_books_model\\checkpoint-4500\\pytorch_model.bin\n",
      "tokenizer config file saved in my_spanish_books_model\\checkpoint-4500\\tokenizer_config.json\n",
      "Special tokens file saved in my_spanish_books_model\\checkpoint-4500\\special_tokens_map.json\n",
      "Copy vocab file to my_spanish_books_model\\checkpoint-4500\\spiece.model\n",
      "Deleting older checkpoint [my_spanish_books_model\\checkpoint-3000] due to args.save_total_limit\n",
      "The following columns in the evaluation set don't have a corresponding argument in `T5ForConditionalGeneration.forward` and have been ignored: id, translation. If id, translation are not expected by `T5ForConditionalGeneration.forward`,  you can safely ignore this message.\n",
      "***** Running Evaluation *****\n",
      "  Num examples = 18694\n",
      "  Batch size = 16\n",
      "Saving model checkpoint to my_spanish_books_model\\checkpoint-5000\n",
      "Configuration saved in my_spanish_books_model\\checkpoint-5000\\config.json\n",
      "Model weights saved in my_spanish_books_model\\checkpoint-5000\\pytorch_model.bin\n",
      "tokenizer config file saved in my_spanish_books_model\\checkpoint-5000\\tokenizer_config.json\n",
      "Special tokens file saved in my_spanish_books_model\\checkpoint-5000\\special_tokens_map.json\n",
      "Copy vocab file to my_spanish_books_model\\checkpoint-5000\\spiece.model\n",
      "Deleting older checkpoint [my_spanish_books_model\\checkpoint-3500] due to args.save_total_limit\n",
      "Saving model checkpoint to my_spanish_books_model\\checkpoint-5500\n",
      "Configuration saved in my_spanish_books_model\\checkpoint-5500\\config.json\n",
      "Model weights saved in my_spanish_books_model\\checkpoint-5500\\pytorch_model.bin\n",
      "tokenizer config file saved in my_spanish_books_model\\checkpoint-5500\\tokenizer_config.json\n",
      "Special tokens file saved in my_spanish_books_model\\checkpoint-5500\\special_tokens_map.json\n",
      "Copy vocab file to my_spanish_books_model\\checkpoint-5500\\spiece.model\n",
      "Deleting older checkpoint [my_spanish_books_model\\checkpoint-4000] due to args.save_total_limit\n",
      "Saving model checkpoint to my_spanish_books_model\\checkpoint-6000\n",
      "Configuration saved in my_spanish_books_model\\checkpoint-6000\\config.json\n",
      "Model weights saved in my_spanish_books_model\\checkpoint-6000\\pytorch_model.bin\n",
      "tokenizer config file saved in my_spanish_books_model\\checkpoint-6000\\tokenizer_config.json\n",
      "Special tokens file saved in my_spanish_books_model\\checkpoint-6000\\special_tokens_map.json\n",
      "Copy vocab file to my_spanish_books_model\\checkpoint-6000\\spiece.model\n",
      "Deleting older checkpoint [my_spanish_books_model\\checkpoint-4500] due to args.save_total_limit\n",
      "Saving model checkpoint to my_spanish_books_model\\checkpoint-6500\n",
      "Configuration saved in my_spanish_books_model\\checkpoint-6500\\config.json\n",
      "Model weights saved in my_spanish_books_model\\checkpoint-6500\\pytorch_model.bin\n",
      "tokenizer config file saved in my_spanish_books_model\\checkpoint-6500\\tokenizer_config.json\n",
      "Special tokens file saved in my_spanish_books_model\\checkpoint-6500\\special_tokens_map.json\n",
      "Copy vocab file to my_spanish_books_model\\checkpoint-6500\\spiece.model\n",
      "Deleting older checkpoint [my_spanish_books_model\\checkpoint-5000] due to args.save_total_limit\n",
      "Saving model checkpoint to my_spanish_books_model\\checkpoint-7000\n",
      "Configuration saved in my_spanish_books_model\\checkpoint-7000\\config.json\n",
      "Model weights saved in my_spanish_books_model\\checkpoint-7000\\pytorch_model.bin\n",
      "tokenizer config file saved in my_spanish_books_model\\checkpoint-7000\\tokenizer_config.json\n",
      "Special tokens file saved in my_spanish_books_model\\checkpoint-7000\\special_tokens_map.json\n",
      "Copy vocab file to my_spanish_books_model\\checkpoint-7000\\spiece.model\n",
      "Deleting older checkpoint [my_spanish_books_model\\checkpoint-5500] due to args.save_total_limit\n",
      "Saving model checkpoint to my_spanish_books_model\\checkpoint-7500\n",
      "Configuration saved in my_spanish_books_model\\checkpoint-7500\\config.json\n",
      "Model weights saved in my_spanish_books_model\\checkpoint-7500\\pytorch_model.bin\n"
     ]
    },
    {
     "name": "stderr",
     "output_type": "stream",
     "text": [
      "tokenizer config file saved in my_spanish_books_model\\checkpoint-7500\\tokenizer_config.json\n",
      "Special tokens file saved in my_spanish_books_model\\checkpoint-7500\\special_tokens_map.json\n",
      "Copy vocab file to my_spanish_books_model\\checkpoint-7500\\spiece.model\n",
      "Deleting older checkpoint [my_spanish_books_model\\checkpoint-6000] due to args.save_total_limit\n",
      "Saving model checkpoint to my_spanish_books_model\\checkpoint-8000\n",
      "Configuration saved in my_spanish_books_model\\checkpoint-8000\\config.json\n",
      "Model weights saved in my_spanish_books_model\\checkpoint-8000\\pytorch_model.bin\n",
      "tokenizer config file saved in my_spanish_books_model\\checkpoint-8000\\tokenizer_config.json\n",
      "Special tokens file saved in my_spanish_books_model\\checkpoint-8000\\special_tokens_map.json\n",
      "Copy vocab file to my_spanish_books_model\\checkpoint-8000\\spiece.model\n",
      "Deleting older checkpoint [my_spanish_books_model\\checkpoint-6500] due to args.save_total_limit\n",
      "Saving model checkpoint to my_spanish_books_model\\checkpoint-8500\n",
      "Configuration saved in my_spanish_books_model\\checkpoint-8500\\config.json\n",
      "Model weights saved in my_spanish_books_model\\checkpoint-8500\\pytorch_model.bin\n",
      "tokenizer config file saved in my_spanish_books_model\\checkpoint-8500\\tokenizer_config.json\n",
      "Special tokens file saved in my_spanish_books_model\\checkpoint-8500\\special_tokens_map.json\n",
      "Copy vocab file to my_spanish_books_model\\checkpoint-8500\\spiece.model\n",
      "Deleting older checkpoint [my_spanish_books_model\\checkpoint-7000] due to args.save_total_limit\n",
      "Saving model checkpoint to my_spanish_books_model\\checkpoint-9000\n",
      "Configuration saved in my_spanish_books_model\\checkpoint-9000\\config.json\n",
      "Model weights saved in my_spanish_books_model\\checkpoint-9000\\pytorch_model.bin\n",
      "tokenizer config file saved in my_spanish_books_model\\checkpoint-9000\\tokenizer_config.json\n",
      "Special tokens file saved in my_spanish_books_model\\checkpoint-9000\\special_tokens_map.json\n",
      "Copy vocab file to my_spanish_books_model\\checkpoint-9000\\spiece.model\n",
      "Deleting older checkpoint [my_spanish_books_model\\checkpoint-7500] due to args.save_total_limit\n",
      "The following columns in the evaluation set don't have a corresponding argument in `T5ForConditionalGeneration.forward` and have been ignored: id, translation. If id, translation are not expected by `T5ForConditionalGeneration.forward`,  you can safely ignore this message.\n",
      "***** Running Evaluation *****\n",
      "  Num examples = 18694\n",
      "  Batch size = 16\n",
      "\n",
      "\n",
      "Training completed. Do not forget to share your model on huggingface.co/models =)\n",
      "\n",
      "\n"
     ]
    },
    {
     "data": {
      "text/plain": [
       "TrainOutput(global_step=9348, training_loss=2.91554663106831, metrics={'train_runtime': 1749.2295, 'train_samples_per_second': 85.496, 'train_steps_per_second': 5.344, 'total_flos': 3930374553206784.0, 'train_loss': 2.91554663106831, 'epoch': 2.0})"
      ]
     },
     "execution_count": 15,
     "metadata": {},
     "output_type": "execute_result"
    }
   ],
   "source": [
    "training_args = Seq2SeqTrainingArguments(\n",
    "    output_dir=\"my_spanish_books_model\",\n",
    "    evaluation_strategy=\"epoch\",\n",
    "    learning_rate=2e-5,\n",
    "    per_device_train_batch_size=16,\n",
    "    per_device_eval_batch_size=16,\n",
    "    weight_decay=0.01,\n",
    "    save_total_limit=3,\n",
    "    num_train_epochs=2,\n",
    "    predict_with_generate=True,\n",
    "    fp16=True,\n",
    ")\n",
    "\n",
    "trainer = Seq2SeqTrainer(\n",
    "    model=model,\n",
    "    args=training_args,\n",
    "    train_dataset=tokenized_books[\"train\"],\n",
    "    eval_dataset=tokenized_books[\"test\"],\n",
    "    tokenizer=tokenizer,\n",
    "    data_collator=data_collator,\n",
    "    compute_metrics=compute_metrics,\n",
    ")\n",
    "\n",
    "trainer.train()"
   ]
  },
  {
   "cell_type": "code",
   "execution_count": 29,
   "metadata": {},
   "outputs": [],
   "source": [
    "text = \"translate English to Spanish: Hello world.\""
   ]
  },
  {
   "cell_type": "code",
   "execution_count": 17,
   "metadata": {},
   "outputs": [
    {
     "name": "stderr",
     "output_type": "stream",
     "text": [
      "Saving model checkpoint to my_spanish_books_model.h5\n",
      "Configuration saved in my_spanish_books_model.h5\\config.json\n",
      "Model weights saved in my_spanish_books_model.h5\\pytorch_model.bin\n",
      "tokenizer config file saved in my_spanish_books_model.h5\\tokenizer_config.json\n",
      "Special tokens file saved in my_spanish_books_model.h5\\special_tokens_map.json\n",
      "Copy vocab file to my_spanish_books_model.h5\\spiece.model\n"
     ]
    }
   ],
   "source": [
    "trainer.save_model(\"my_spanish_books_model.h5\")"
   ]
  },
  {
   "cell_type": "code",
   "execution_count": 30,
   "metadata": {},
   "outputs": [
    {
     "name": "stderr",
     "output_type": "stream",
     "text": [
      "loading file spiece.model\n",
      "loading file tokenizer.json\n",
      "loading file added_tokens.json\n",
      "loading file special_tokens_map.json\n",
      "loading file tokenizer_config.json\n"
     ]
    }
   ],
   "source": [
    "from transformers import AutoTokenizer\n",
    "\n",
    "tokenizer = AutoTokenizer.from_pretrained(\"my_spanish_books_model.h5\")\n",
    "inputs = tokenizer(text, return_tensors=\"pt\").input_ids"
   ]
  },
  {
   "cell_type": "code",
   "execution_count": 31,
   "metadata": {},
   "outputs": [
    {
     "name": "stderr",
     "output_type": "stream",
     "text": [
      "loading configuration file my_spanish_books_model.h5\\config.json\n",
      "Model config T5Config {\n",
      "  \"_name_or_path\": \"my_spanish_books_model.h5\",\n",
      "  \"architectures\": [\n",
      "    \"T5ForConditionalGeneration\"\n",
      "  ],\n",
      "  \"d_ff\": 2048,\n",
      "  \"d_kv\": 64,\n",
      "  \"d_model\": 512,\n",
      "  \"decoder_start_token_id\": 0,\n",
      "  \"dense_act_fn\": \"relu\",\n",
      "  \"dropout_rate\": 0.1,\n",
      "  \"eos_token_id\": 1,\n",
      "  \"feed_forward_proj\": \"relu\",\n",
      "  \"initializer_factor\": 1.0,\n",
      "  \"is_encoder_decoder\": true,\n",
      "  \"is_gated_act\": false,\n",
      "  \"layer_norm_epsilon\": 1e-06,\n",
      "  \"model_type\": \"t5\",\n",
      "  \"n_positions\": 512,\n",
      "  \"num_decoder_layers\": 6,\n",
      "  \"num_heads\": 8,\n",
      "  \"num_layers\": 6,\n",
      "  \"output_past\": true,\n",
      "  \"pad_token_id\": 0,\n",
      "  \"relative_attention_max_distance\": 128,\n",
      "  \"relative_attention_num_buckets\": 32,\n",
      "  \"task_specific_params\": {\n",
      "    \"summarization\": {\n",
      "      \"early_stopping\": true,\n",
      "      \"length_penalty\": 2.0,\n",
      "      \"max_length\": 200,\n",
      "      \"min_length\": 30,\n",
      "      \"no_repeat_ngram_size\": 3,\n",
      "      \"num_beams\": 4,\n",
      "      \"prefix\": \"summarize: \"\n",
      "    },\n",
      "    \"translation_en_to_de\": {\n",
      "      \"early_stopping\": true,\n",
      "      \"max_length\": 300,\n",
      "      \"num_beams\": 4,\n",
      "      \"prefix\": \"translate English to German: \"\n",
      "    },\n",
      "    \"translation_en_to_fr\": {\n",
      "      \"early_stopping\": true,\n",
      "      \"max_length\": 300,\n",
      "      \"num_beams\": 4,\n",
      "      \"prefix\": \"translate English to French: \"\n",
      "    },\n",
      "    \"translation_en_to_ro\": {\n",
      "      \"early_stopping\": true,\n",
      "      \"max_length\": 300,\n",
      "      \"num_beams\": 4,\n",
      "      \"prefix\": \"translate English to Romanian: \"\n",
      "    }\n",
      "  },\n",
      "  \"torch_dtype\": \"float32\",\n",
      "  \"transformers_version\": \"4.25.1\",\n",
      "  \"use_cache\": true,\n",
      "  \"vocab_size\": 32128\n",
      "}\n",
      "\n",
      "loading weights file my_spanish_books_model.h5\\pytorch_model.bin\n",
      "All model checkpoint weights were used when initializing T5ForConditionalGeneration.\n",
      "\n",
      "All the weights of T5ForConditionalGeneration were initialized from the model checkpoint at my_spanish_books_model.h5.\n",
      "If your task is similar to the task the model of the checkpoint was trained on, you can already use T5ForConditionalGeneration for predictions without further training.\n"
     ]
    }
   ],
   "source": [
    "from transformers import AutoModelForSeq2SeqLM\n",
    "\n",
    "model = AutoModelForSeq2SeqLM.from_pretrained(\"my_spanish_books_model.h5\")\n",
    "outputs = model.generate(inputs, max_new_tokens=40, do_sample=True, top_k=30, top_p=0.95)"
   ]
  },
  {
   "cell_type": "code",
   "execution_count": 32,
   "metadata": {},
   "outputs": [
    {
     "data": {
      "text/plain": [
       "'Les jugars el mundo!'"
      ]
     },
     "execution_count": 32,
     "metadata": {},
     "output_type": "execute_result"
    }
   ],
   "source": [
    "tokenizer.decode(outputs[0], skip_special_tokens=True)"
   ]
  },
  {
   "cell_type": "code",
   "execution_count": null,
   "metadata": {},
   "outputs": [],
   "source": []
  }
 ],
 "metadata": {
  "kernelspec": {
   "display_name": "Python 3 (ipykernel)",
   "language": "python",
   "name": "python3"
  },
  "language_info": {
   "codemirror_mode": {
    "name": "ipython",
    "version": 3
   },
   "file_extension": ".py",
   "mimetype": "text/x-python",
   "name": "python",
   "nbconvert_exporter": "python",
   "pygments_lexer": "ipython3",
   "version": "3.10.11"
  }
 },
 "nbformat": 4,
 "nbformat_minor": 4
}
