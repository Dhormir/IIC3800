{
 "cells": [
  {
   "cell_type": "markdown",
   "metadata": {},
   "source": [
    "# IIC-3800 Tópicos en CC - NLP UC"
   ]
  },
  {
   "cell_type": "markdown",
   "metadata": {},
   "source": [
    "- Versiones de librerías, python 3.8.10\n",
    "\n",
    "- numpy 1.20.3\n",
    "- nltk 3.7\n",
    "- lime 0.2.0.1"
   ]
  },
  {
   "cell_type": "markdown",
   "metadata": {},
   "source": [
    "____________________________________________________________________________________________________________\n",
    "\n",
    "## Actividad en clase\n",
    "\n",
    "Construya clasificadores de documentos **MultinomialNB** que trabajen sobre el dataset 20Newsgroups. Para esto haga lo siguiente:\n",
    "\n",
    "- Construya una primera representación vectorizando el corpus usando **Idf=1** para todas las palabras del vocabulario. \n",
    "- Construya una segunda representación usando **sublinear_tf** e Idf por defecto. \n",
    "- Entrene un clasificador MultinomialNB para cada una de las representaciones.  \n",
    "- Evalúe los clasificadores usando **classification_report** sobre la particion de test.\n",
    "- Cuanto termine, me avisa para entregarle una **L (logrado)**.\n",
    "- Recuerde que las L otorgan un bono en la nota final de la asignatura.\n",
    "\n",
    "Revise la documentación para poder hacer la actividad:\n",
    "\n",
    "https://scikit-learn.org/stable/modules/generated/sklearn.feature_extraction.text.TfidfVectorizer.html#sklearn.feature_extraction.text.TfidfVectorizer\n",
    "\n",
    "***Tiene hasta el final de la clase.***\n",
    "\n",
    "_________________________________________________________________________________________________________________"
   ]
  },
  {
   "cell_type": "markdown",
   "metadata": {},
   "source": [
    "# Solución"
   ]
  },
  {
   "cell_type": "code",
   "execution_count": 1,
   "metadata": {},
   "outputs": [],
   "source": [
    "from sklearn.datasets import fetch_20newsgroups\n",
    "\n",
    "newsgroups_train = fetch_20newsgroups(subset='train', remove=('headers', 'footers', 'quotes'))\n",
    "newsgroups_test = fetch_20newsgroups(subset='test', remove=('headers', 'footers', 'quotes'))"
   ]
  },
  {
   "cell_type": "code",
   "execution_count": 2,
   "metadata": {},
   "outputs": [],
   "source": [
    "from nltk.corpus import stopwords\n",
    "from nltk.tokenize import RegexpTokenizer, sent_tokenize\n",
    "from nltk.stem import WordNetLemmatizer\n",
    "\n",
    "# Load stop-words\n",
    "stop_words = set(stopwords.words('english'))\n",
    "\n",
    "# Initialize tokenizer\n",
    "# It's also possible to try with a stemmer or to mix a stemmer and a lemmatizer\n",
    "tokenizer = RegexpTokenizer('[\\'a-zA-Z]+')\n",
    "\n",
    "# Initialize lemmatizer\n",
    "lemmatizer = WordNetLemmatizer()\n",
    "\n",
    "def tokenize(document):\n",
    "    words = []\n",
    "\n",
    "    for sentence in sent_tokenize(document):\n",
    "        tokens = [lemmatizer.lemmatize(t.lower()) for t in tokenizer.tokenize(sentence) if t.lower() not in stop_words and len(t) > 2]\n",
    "        words += tokens\n",
    "\n",
    "    text = ' '.join(words)\n",
    "    return text\n"
   ]
  },
  {
   "cell_type": "code",
   "execution_count": 3,
   "metadata": {},
   "outputs": [],
   "source": [
    "train_docs = []\n",
    "test_docs = []\n",
    "\n",
    "for raw_text in newsgroups_train.data:\n",
    "    text = tokenize(raw_text)\n",
    "    train_docs.append(text)\n",
    "    \n",
    "for raw_text in newsgroups_test.data:\n",
    "    text = tokenize(raw_text)\n",
    "    test_docs.append(text)\n",
    "    "
   ]
  },
  {
   "cell_type": "code",
   "execution_count": 5,
   "metadata": {},
   "outputs": [],
   "source": [
    "from sklearn.feature_extraction.text import TfidfVectorizer\n",
    "\n",
    "vectorizer_1 = TfidfVectorizer(use_idf = False)\n",
    "vectors_1 = vectorizer_1.fit_transform(train_docs)\n",
    "vectors_test_1 = vectorizer_1.transform(test_docs)"
   ]
  },
  {
   "cell_type": "code",
   "execution_count": 6,
   "metadata": {},
   "outputs": [],
   "source": [
    "vectorizer_2 = TfidfVectorizer(sublinear_tf = True)\n",
    "vectors_2 = vectorizer_2.fit_transform(train_docs)\n",
    "vectors_test_2 = vectorizer_2.transform(test_docs)"
   ]
  },
  {
   "cell_type": "code",
   "execution_count": 7,
   "metadata": {},
   "outputs": [
    {
     "data": {
      "text/plain": [
       "0.6271906532129581"
      ]
     },
     "execution_count": 7,
     "metadata": {},
     "output_type": "execute_result"
    }
   ],
   "source": [
    "from sklearn.naive_bayes import MultinomialNB\n",
    "\n",
    "clf1 = MultinomialNB()\n",
    "clf1.fit(vectors_1, newsgroups_train.target)\n",
    "clf1.score(vectors_test_1, newsgroups_test.target)"
   ]
  },
  {
   "cell_type": "code",
   "execution_count": 8,
   "metadata": {},
   "outputs": [
    {
     "data": {
      "text/plain": [
       "0.6595857673924589"
      ]
     },
     "execution_count": 8,
     "metadata": {},
     "output_type": "execute_result"
    }
   ],
   "source": [
    "clf2 = MultinomialNB()\n",
    "clf2.fit(vectors_2, newsgroups_train.target)\n",
    "clf2.score(vectors_test_2, newsgroups_test.target)"
   ]
  },
  {
   "cell_type": "code",
   "execution_count": 9,
   "metadata": {},
   "outputs": [
    {
     "name": "stdout",
     "output_type": "stream",
     "text": [
      "              precision    recall  f1-score   support\n",
      "\n",
      "           0       0.73      0.07      0.13       319\n",
      "           1       0.66      0.62      0.64       389\n",
      "           2       0.66      0.50      0.57       394\n",
      "           3       0.53      0.71      0.61       392\n",
      "           4       0.76      0.55      0.64       385\n",
      "           5       0.73      0.77      0.75       395\n",
      "           6       0.80      0.75      0.78       390\n",
      "           7       0.81      0.65      0.72       396\n",
      "           8       0.83      0.69      0.75       398\n",
      "           9       0.91      0.73      0.81       397\n",
      "          10       0.57      0.90      0.70       399\n",
      "          11       0.50      0.79      0.61       396\n",
      "          12       0.64      0.49      0.55       393\n",
      "          13       0.81      0.72      0.76       396\n",
      "          14       0.76      0.69      0.73       394\n",
      "          15       0.31      0.92      0.46       398\n",
      "          16       0.56      0.66      0.61       364\n",
      "          17       0.81      0.74      0.78       376\n",
      "          18       0.84      0.14      0.23       310\n",
      "          19       0.67      0.01      0.02       251\n",
      "\n",
      "    accuracy                           0.63      7532\n",
      "   macro avg       0.69      0.61      0.59      7532\n",
      "weighted avg       0.69      0.63      0.61      7532\n",
      "\n"
     ]
    }
   ],
   "source": [
    "from sklearn.metrics import classification_report, confusion_matrix, accuracy_score\n",
    "\n",
    "Y_predict_1 = clf1.predict(vectors_test_1)\n",
    "print(classification_report(newsgroups_test.target, Y_predict_1))"
   ]
  },
  {
   "cell_type": "code",
   "execution_count": 10,
   "metadata": {},
   "outputs": [
    {
     "name": "stdout",
     "output_type": "stream",
     "text": [
      "              precision    recall  f1-score   support\n",
      "\n",
      "           0       0.76      0.12      0.21       319\n",
      "           1       0.72      0.67      0.69       389\n",
      "           2       0.71      0.50      0.59       394\n",
      "           3       0.54      0.74      0.63       392\n",
      "           4       0.77      0.62      0.68       385\n",
      "           5       0.76      0.81      0.78       395\n",
      "           6       0.83      0.76      0.79       390\n",
      "           7       0.84      0.72      0.78       396\n",
      "           8       0.86      0.71      0.78       398\n",
      "           9       0.93      0.78      0.85       397\n",
      "          10       0.59      0.93      0.72       399\n",
      "          11       0.51      0.82      0.63       396\n",
      "          12       0.72      0.51      0.60       393\n",
      "          13       0.85      0.74      0.80       396\n",
      "          14       0.80      0.74      0.77       394\n",
      "          15       0.33      0.93      0.49       398\n",
      "          16       0.57      0.69      0.62       364\n",
      "          17       0.80      0.77      0.78       376\n",
      "          18       0.88      0.21      0.33       310\n",
      "          19       0.75      0.01      0.02       251\n",
      "\n",
      "    accuracy                           0.66      7532\n",
      "   macro avg       0.73      0.64      0.63      7532\n",
      "weighted avg       0.72      0.66      0.65      7532\n",
      "\n"
     ]
    }
   ],
   "source": [
    "Y_predict_2 = clf2.predict(vectors_test_2)\n",
    "print(classification_report(newsgroups_test.target, Y_predict_2))"
   ]
  },
  {
   "cell_type": "code",
   "execution_count": null,
   "metadata": {},
   "outputs": [],
   "source": []
  }
 ],
 "metadata": {
  "kernelspec": {
   "display_name": "Python 3",
   "language": "python",
   "name": "python3"
  },
  "language_info": {
   "codemirror_mode": {
    "name": "ipython",
    "version": 3
   },
   "file_extension": ".py",
   "mimetype": "text/x-python",
   "name": "python",
   "nbconvert_exporter": "python",
   "pygments_lexer": "ipython3",
   "version": "3.8.10"
  }
 },
 "nbformat": 4,
 "nbformat_minor": 4
}
