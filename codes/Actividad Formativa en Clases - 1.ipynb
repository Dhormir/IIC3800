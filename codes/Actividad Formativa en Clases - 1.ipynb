{
 "cells": [
  {
   "cell_type": "markdown",
   "metadata": {},
   "source": [
    "# IIC-3800 Tópicos en CC - NLP UC"
   ]
  },
  {
   "cell_type": "markdown",
   "metadata": {},
   "source": [
    "- Versiones de librerías, python 3.8.10\n",
    "\n",
    "- numpy 1.20.3\n",
    "- nltk 3.7\n",
    "- rank_bm25 0.2.2"
   ]
  },
  {
   "cell_type": "code",
   "execution_count": 1,
   "metadata": {},
   "outputs": [],
   "source": [
    "from nltk.corpus import product_reviews_1\n",
    "camera_reviews = product_reviews_1.reviews('Canon_G3.txt')"
   ]
  },
  {
   "cell_type": "code",
   "execution_count": 4,
   "metadata": {},
   "outputs": [
    {
     "data": {
      "text/plain": [
       "['i',\n",
       " 'recently',\n",
       " 'purchased',\n",
       " 'the',\n",
       " 'canon',\n",
       " 'powershot',\n",
       " 'g3',\n",
       " 'and',\n",
       " 'am',\n",
       " 'extremely',\n",
       " 'satisfied',\n",
       " 'with',\n",
       " 'the',\n",
       " 'purchase',\n",
       " '.']"
      ]
     },
     "execution_count": 4,
     "metadata": {},
     "output_type": "execute_result"
    }
   ],
   "source": [
    "review = camera_reviews[0]\n",
    "review.sents()[0]"
   ]
  },
  {
   "cell_type": "markdown",
   "metadata": {},
   "source": [
    "____________________________________________________________________________________________________________\n",
    "\n",
    "## Actividad en clase\n",
    "\n",
    "Construya un motor de consultas **BM25** que trabaje sobre los camera_reviews. Para esto haga lo siguiente:\n",
    "\n",
    "- Cree el corpus de camera_reviews. Fíjese que cada review tiene varias sentencias. El corpus debe tener un documento por review, el cual está representado por una lista de palabras.\n",
    "- Debe preprocesar el texto para que el listado de palabras que representa a cada review esté limpio. Reúse los ejemplos de la clase 1. \n",
    "- Corra la consulta *'best price and quality'*. Puede usar la librería rank_bm25. \n",
    "- Muestre los reviews ordenados por relevancia.\n",
    "- Cuanto termine, me avisa para entregarle una **L (logrado)**.\n",
    "- Recuerde que las L otorgan un bono en la nota final de la asignatura.\n",
    "\n",
    "***Tiene hasta el final de la clase.***\n",
    "\n",
    "_________________________________________________________________________________________________________________"
   ]
  },
  {
   "cell_type": "markdown",
   "metadata": {},
   "source": [
    "# Solución"
   ]
  },
  {
   "cell_type": "code",
   "execution_count": 5,
   "metadata": {},
   "outputs": [],
   "source": [
    "reviews = []\n",
    "\n",
    "for review in camera_reviews:\n",
    "    sentences = []\n",
    "    for sentence in review.sents():\n",
    "        text = \" \".join(sentence)\n",
    "        sentences.append(text)\n",
    "    document = \" \".join(sentences)\n",
    "    reviews.append(document)\n"
   ]
  },
  {
   "cell_type": "code",
   "execution_count": 19,
   "metadata": {},
   "outputs": [],
   "source": [
    "from nltk.corpus import stopwords\n",
    "from nltk.tokenize import RegexpTokenizer, sent_tokenize\n",
    "from nltk.stem import WordNetLemmatizer\n",
    "\n",
    "# Load stop-words\n",
    "stop_words = set(stopwords.words('english'))\n",
    "\n",
    "# Initialize tokenizer\n",
    "# It's also possible to try with a stemmer or to mix a stemmer and a lemmatizer\n",
    "tokenizer = RegexpTokenizer('[\\'a-zA-Z]+')\n",
    "\n",
    "# Initialize lemmatizer\n",
    "lemmatizer = WordNetLemmatizer()\n",
    "\n",
    "def tokenize(document):\n",
    "    words = []\n",
    "\n",
    "    for sentence in sent_tokenize(document):\n",
    "        tokens = [lemmatizer.lemmatize(t.lower()) for t in tokenizer.tokenize(sentence) if t.lower() not in stop_words and len(t) > 2]\n",
    "        words += tokens\n",
    "    \n",
    "    return words"
   ]
  },
  {
   "cell_type": "code",
   "execution_count": 20,
   "metadata": {},
   "outputs": [],
   "source": [
    "corpus = []\n",
    "\n",
    "for review in reviews:\n",
    "    document = tokenize(review)\n",
    "    corpus.append(document)\n"
   ]
  },
  {
   "cell_type": "code",
   "execution_count": 29,
   "metadata": {},
   "outputs": [
    {
     "name": "stdout",
     "output_type": "stream",
     "text": [
      "recent price drop made best bargain digital camera currently available advanced photobugs find creative control imaginable newbie find full auto setting give perfect picture right box megapixels enough anybody photo quality awesome get fooled megapixel marketing hype unless want print mural need used camera find comfortable friendly use anyone looking point shoot make huge step moderate price difference extended zoom range faster lense put top class expect please year come\n",
      "\n",
      "canon improves almost way fact beat nikon coolpix performance picture quality battery life amazing megapixel camera canon megapixel camera canon optic better believe processing algorithm also better simply canon best digital camera today price point canon allows change lens accepts ibm microdrive type compact flash gigabyte storage fine resolution setting maximum close add image gig card battery life camera twice nikon better anything else seen minor nit camera fairly boxy looking need wrist strap instead neck strap bit slow shot even shortcoming still think best digital camera available\n",
      "\n",
      "recommend unreservedly powershot potential buyer looking first class digital camera reasonable price better camera period give great picture control easy use battery last forever one single charge software user friendly beautiful chrome casing began taking pic soon got camera amazed quality photo took simply using auto mode absolutely breathtaking considering olympus camedia convinced buy visiting store holding hand trying olympus bit clumsy looking user interface friendly canon one feature sold battery life camera give type battery life canon would recommend larger compact flash card least bought card simpletech work great canon\n",
      "\n",
      "far finest camera price category ever used also one electronic item work right box macro work great medical photograph auto mode terrific point shoot\n",
      "\n",
      "bought last week amazon got great deal reputable seller love camera still trying figure may option took hundred picture great great color picture white balance optical zoom higher price range generally overpriced little bit get paying\n",
      "\n"
     ]
    }
   ],
   "source": [
    "from rank_bm25 import BM25Okapi\n",
    "\n",
    "bm25 = BM25Okapi(corpus)\n",
    "query = \"best price and quality\"\n",
    "tokenized_query = tokenize(query)\n",
    "\n",
    "doc_scores = bm25.get_scores(tokenized_query)\n",
    "result = bm25.get_top_n(tokenized_query, corpus, n=5)\n",
    "\n",
    "for res in result:\n",
    "    print(' '.join(res))\n",
    "    print('')\n",
    "    "
   ]
  },
  {
   "cell_type": "code",
   "execution_count": null,
   "metadata": {},
   "outputs": [],
   "source": []
  }
 ],
 "metadata": {
  "kernelspec": {
   "display_name": "Python 3",
   "language": "python",
   "name": "python3"
  },
  "language_info": {
   "codemirror_mode": {
    "name": "ipython",
    "version": 3
   },
   "file_extension": ".py",
   "mimetype": "text/x-python",
   "name": "python",
   "nbconvert_exporter": "python",
   "pygments_lexer": "ipython3",
   "version": "3.8.10"
  }
 },
 "nbformat": 4,
 "nbformat_minor": 4
}
