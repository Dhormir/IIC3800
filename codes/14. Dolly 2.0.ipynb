{
 "cells": [
  {
   "cell_type": "code",
   "execution_count": 1,
   "id": "4d5d5d11",
   "metadata": {},
   "outputs": [],
   "source": [
    "import gc, torch\n",
    "\n",
    "def clear_gpu_memory():\n",
    "    torch.cuda.empty_cache()\n",
    "    gc.collect()\n",
    "    \n",
    "clear_gpu_memory()"
   ]
  },
  {
   "cell_type": "code",
   "execution_count": 2,
   "id": "50a1a0f4",
   "metadata": {},
   "outputs": [],
   "source": [
    "from transformers import pipeline, AutoModelForCausalLM, AutoTokenizer\n",
    "\n",
    "generate_text = pipeline(model=\"databricks/dolly-v2-7b\", torch_dtype=torch.bfloat16, trust_remote_code=True, device_map=\"auto\")"
   ]
  },
  {
   "cell_type": "code",
   "execution_count": 3,
   "id": "cfa90749",
   "metadata": {},
   "outputs": [],
   "source": [
    "import os\n",
    "\n",
    "os.environ[\"PYTORCH_CUDA_ALLOC_CONF\"] = \"max_split_size_mb:64\""
   ]
  },
  {
   "cell_type": "code",
   "execution_count": 4,
   "id": "80880707",
   "metadata": {},
   "outputs": [],
   "source": [
    "res = generate_text(\"Explain to me the difference between nuclear fission and fusion\")"
   ]
  },
  {
   "cell_type": "code",
   "execution_count": 5,
   "id": "554c00bc",
   "metadata": {},
   "outputs": [
    {
     "name": "stdout",
     "output_type": "stream",
     "text": [
      "Nuclear fission is when a heavy atomic nucleus is split into smaller fragments. This releases vast amounts of energy in the form of heat and light.\n",
      "\n",
      "Fusion is the process of combining two or more light atomic nuclei to form one or more heavy atomic nuclei. This results in greater stability than the compounds formed from the spontaneous breaking up of heavy nuclei, but the energy released is less than that released by nuclear fission.\n"
     ]
    }
   ],
   "source": [
    "print(res[0][\"generated_text\"])"
   ]
  },
  {
   "cell_type": "markdown",
   "id": "ff714bc1",
   "metadata": {},
   "source": [
    "Ver más información en: https://github.com/databrickslabs/dolly#getting-started-with-response-generation"
   ]
  },
  {
   "cell_type": "code",
   "execution_count": 11,
   "id": "f8559ae9",
   "metadata": {},
   "outputs": [],
   "source": [
    "clear_gpu_memory()"
   ]
  },
  {
   "cell_type": "code",
   "execution_count": 12,
   "id": "a144687b",
   "metadata": {},
   "outputs": [],
   "source": [
    "res = generate_text(\"Explicar la diferencia entre fision nuclear y fusion nuclear\")"
   ]
  },
  {
   "cell_type": "code",
   "execution_count": 13,
   "id": "656692da",
   "metadata": {},
   "outputs": [
    {
     "name": "stdout",
     "output_type": "stream",
     "text": [
      "Fision nuclear es la técnica nuclear aplicada para producir electricidad, a diferencia de la fusion nuclear, que es la técnica para producir energía a partir de la fusión nuclear\n"
     ]
    }
   ],
   "source": [
    "print(res[0][\"generated_text\"])"
   ]
  },
  {
   "cell_type": "code",
   "execution_count": 14,
   "id": "8d78c6a4",
   "metadata": {},
   "outputs": [],
   "source": [
    "clear_gpu_memory()"
   ]
  },
  {
   "cell_type": "code",
   "execution_count": 15,
   "id": "3720049c",
   "metadata": {},
   "outputs": [],
   "source": [
    "res = generate_text(\"Explicar la diferencia entre fision nuclear y fusion nuclear como si fueras un experto en fisica\")"
   ]
  },
  {
   "cell_type": "code",
   "execution_count": 16,
   "id": "b5807b3a",
   "metadata": {},
   "outputs": [
    {
     "name": "stdout",
     "output_type": "stream",
     "text": [
      "Nuclear fusion es la mayor cautela del mundo, no porque se escape material nuclear, sino porque se genera unus o cuantos tanto éter balance de Higgs y todo eso.\n",
      "Nuclear fission es la que ya existe y funciona. Se salta ese paso que sería un infinito estanque de protones.\n"
     ]
    }
   ],
   "source": [
    "print(res[0][\"generated_text\"])"
   ]
  },
  {
   "cell_type": "code",
   "execution_count": null,
   "id": "904a3b52",
   "metadata": {},
   "outputs": [],
   "source": []
  }
 ],
 "metadata": {
  "kernelspec": {
   "display_name": "Python 3 (ipykernel)",
   "language": "python",
   "name": "python3"
  },
  "language_info": {
   "codemirror_mode": {
    "name": "ipython",
    "version": 3
   },
   "file_extension": ".py",
   "mimetype": "text/x-python",
   "name": "python",
   "nbconvert_exporter": "python",
   "pygments_lexer": "ipython3",
   "version": "3.8.10"
  }
 },
 "nbformat": 4,
 "nbformat_minor": 5
}
